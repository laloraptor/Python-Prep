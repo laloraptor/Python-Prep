{
 "cells": [
  {
   "attachments": {},
   "cell_type": "markdown",
   "metadata": {},
   "source": [
    "Crear una clase \"Persona\" con atributos \"nombre\" y \"edad\", y un método \"presentarse\" que imprima en pantalla el nombre y la edad de la persona."
   ]
  },
  {
   "cell_type": "code",
   "execution_count": 10,
   "metadata": {},
   "outputs": [
    {
     "name": "stdout",
     "output_type": "stream",
     "text": [
      "Mi nombre es juan y tengo 22 años\n"
     ]
    }
   ],
   "source": [
    "class Persona:\n",
    "    def __init__(self,nombre, edad):\n",
    "        self.nombre=nombre\n",
    "        self.edad=edad\n",
    "    def presentarse(self):\n",
    "        print(f\"Mi nombre es {self.nombre} y tengo {self.edad} años\")\n",
    "\n",
    "persona1=Persona(\"juan\",22)\n",
    "persona1.presentarse()\n"
   ]
  },
  {
   "attachments": {},
   "cell_type": "markdown",
   "metadata": {},
   "source": [
    "Crear una clase \"Punto\" con atributos \"x\" e \"y\", y métodos \"mover_x\" y \"mover_y\" que permitan mover el punto en la dirección correspondiente."
   ]
  },
  {
   "cell_type": "code",
   "execution_count": 14,
   "metadata": {},
   "outputs": [
    {
     "name": "stdout",
     "output_type": "stream",
     "text": [
      "20\n",
      "30\n",
      "32\n",
      "86\n"
     ]
    }
   ],
   "source": [
    "class Punto:\n",
    "    def __init__(self,x,y):\n",
    "        self.x=x\n",
    "        self.y=y\n",
    "    def dista_x(self, distancia):\n",
    "        self.x+=distancia\n",
    "    def dista_y(self,distancia):\n",
    "        self.y+=distancia\n",
    "pos1=Punto(20,30)\n",
    "print (pos1.x) #nota aquí como es el llamado a uno de los argumentos. con el nombre del objeto instanciado. \n",
    "print(pos1.y)\n",
    "pos1.dista_x(12)\n",
    "pos1.dista_y(56)\n",
    "print (pos1.x) #nota aquí como es el llamado a uno de los argumentos. con el nombre del objeto instanciado. \n",
    "print(pos1.y)\n"
   ]
  },
  {
   "attachments": {},
   "cell_type": "markdown",
   "metadata": {},
   "source": [
    "Crear una clase \"Calculadora\" con métodos \"sumar\", \"restar\", \"multiplicar\" y \"dividir\" que permitan realizar operaciones aritméticas básicas."
   ]
  },
  {
   "cell_type": "code",
   "execution_count": 23,
   "metadata": {},
   "outputs": [
    {
     "name": "stdout",
     "output_type": "stream",
     "text": [
      "35\n",
      "35\n"
     ]
    }
   ],
   "source": [
    "class Calculadora:\n",
    "    def __init__(self,a, b):\n",
    "        self.a=a\n",
    "        self.b=b\n",
    "    def sumar(self):\n",
    "        return self.a+self.b\n",
    "    def restar(self):\n",
    "        return self.a-self.b\n",
    "    def dividir(self):\n",
    "        return self.a/self.b\n",
    "    def multiplicar(self):\n",
    "        return self.a*self.b\n",
    "\n",
    "calcular=Calculadora(20,15)\n",
    "suma=calcular.sumar()\n",
    "print(suma)\n",
    "print(calcular.sumar())\n"
   ]
  },
  {
   "cell_type": "code",
   "execution_count": 25,
   "metadata": {},
   "outputs": [
    {
     "data": {
      "text/plain": [
       "1.6666666666666667"
      ]
     },
     "execution_count": 25,
     "metadata": {},
     "output_type": "execute_result"
    }
   ],
   "source": [
    "#Tambien puede hacerse para que no pida argumentos en inicio y más bien se defina solo por funciones. Por eso no habrá \n",
    "class Calculadora:\n",
    "    def sumar(self,a,b):\n",
    "        return a+b\n",
    "    def restar(self,a,b):\n",
    "        return a-b\n",
    "    def dividir(self,a,b):\n",
    "        return a/b\n",
    "    def multiplicar(self,a,b):\n",
    "        return a*b\n",
    "\n",
    "calcular=Calculadora()\n",
    "calcular.dividir(20,12)"
   ]
  },
  {
   "attachments": {},
   "cell_type": "markdown",
   "metadata": {},
   "source": [
    "Crea una clase llamada \"Persona\" que tenga los atributos \"nombre\", \"edad\" y \"profesión\". La clase debe tener un método llamado \"presentarse\" que imprima en pantalla una descripción de la persona."
   ]
  },
  {
   "cell_type": "code",
   "execution_count": 27,
   "metadata": {},
   "outputs": [
    {
     "name": "stdout",
     "output_type": "stream",
     "text": [
      "Hola. Mi nombre es juan perez, tengo 20 años y soy sociologo de profesion\n"
     ]
    }
   ],
   "source": [
    "class Persona:\n",
    "    def __init__(self,nombre,edad,profesion):\n",
    "        self.nombre=nombre\n",
    "        self.edad=edad\n",
    "        self.profesion=profesion\n",
    "    def presentarse(self):\n",
    "        print(f\"Hola. Mi nombre es {self.nombre}, tengo {self.edad} años y soy {self.profesion} de profesion\")\n",
    "\n",
    "persona1=Persona(\"juan perez\", 20, \"sociologo\")\n",
    "persona1.presentarse()"
   ]
  },
  {
   "attachments": {},
   "cell_type": "markdown",
   "metadata": {},
   "source": [
    "Crea una clase llamada \"CuentaBancaria\" que tenga los atributos \"saldo\" y \"titular\". La clase debe tener métodos para depositar y retirar dinero, y un método que imprima en pantalla el saldo actual de la cuenta."
   ]
  },
  {
   "cell_type": "code",
   "execution_count": 33,
   "metadata": {},
   "outputs": [
    {
     "name": "stdout",
     "output_type": "stream",
     "text": [
      "el saldo actual de la cuenta con titular eduardo perez es de 5000\n",
      "el saldo actual de la cuenta con titular eduardo perez es de 9200\n",
      "el saldo actual de la cuenta con titular eduardo perez es de 8524.8\n"
     ]
    }
   ],
   "source": [
    "class CuentaBancaria:\n",
    "    def __init__(self,titular, saldo=0):\n",
    "        self.saldo=saldo\n",
    "        self.titular=titular\n",
    "    def depositar(self, cantidad):\n",
    "        self.saldo+=cantidad\n",
    "    def retirar(self, cantidad):\n",
    "        if self.saldo>=cantidad:\n",
    "            self.saldo-=cantidad\n",
    "        else:\n",
    "            print(f\"no cuentas con el saldo suficiente para retirar dinero. Prueba con una cantidad igual o menor a {cantidad}\")\n",
    "    def saldo_actual (self):\n",
    "        print(f\"el saldo actual de la cuenta con titular {self.titular} es de {self.saldo}\")\n",
    "    \n",
    "persona1=CuentaBancaria(\"eduardo perez\", 5000)\n",
    "persona1.saldo_actual()\n",
    "persona1.depositar(4200)\n",
    "persona1.saldo_actual()\n",
    "persona1.retirar(675.20)\n",
    "persona1.saldo_actual()"
   ]
  },
  {
   "attachments": {},
   "cell_type": "markdown",
   "metadata": {},
   "source": [
    "Crea una clase llamada \"Rectangulo\" que tenga los atributos \"largo\" y \"ancho\". La clase debe tener métodos para calcular el área y el perímetro del rectángulo."
   ]
  },
  {
   "cell_type": "code",
   "execution_count": 38,
   "metadata": {},
   "outputs": [
    {
     "name": "stdout",
     "output_type": "stream",
     "text": [
      "El area de un rectangulo con largo 20 y ancho 15 es de 300 y su perimetro es de 70 \n"
     ]
    }
   ],
   "source": [
    "class Rectangulo:\n",
    "    def __init__(self, largo, ancho):\n",
    "        self.largo=largo\n",
    "        self.ancho=ancho\n",
    "    def area(self):\n",
    "        return self.largo*self.ancho\n",
    "    def perimetro(self):\n",
    "        return self.largo*2+self.ancho*2\n",
    "r1=Rectangulo(20,15)\n",
    "area1=r1.area()\n",
    "peri1=r1.perimetro()\n",
    "print(f\"El area de un rectangulo con largo {r1.largo} y ancho {r1.ancho} es de {area1} y su perimetro es de {peri1} \")"
   ]
  },
  {
   "attachments": {},
   "cell_type": "markdown",
   "metadata": {},
   "source": [
    "Crea una clase llamada \"Fraccion\" que tenga los atributos \"numerador\" y \"denominador\". La clase debe tener métodos para sumar, restar, multiplicar y dividir fracciones."
   ]
  },
  {
   "cell_type": "code",
   "execution_count": 49,
   "metadata": {},
   "outputs": [
    {
     "name": "stdout",
     "output_type": "stream",
     "text": [
      "tomando la fraccion 1: 5/12 y la 2: 3/4. Su suma es 8.0, su resta es 384/48, su producto es 15/48 y su cociente es 20/36 \n"
     ]
    }
   ],
   "source": [
    "class Fraccion:\n",
    "    def __init__(self, numerador, denominador):\n",
    "        self.numerador=numerador\n",
    "        self.denominador=denominador\n",
    "    \n",
    "    def restar(self, otrafraccion):\n",
    "        denocomp=self.denominador*otrafraccion.denominador\n",
    "        nuevonum=denocomp*self.numerador + denocomp*otrafraccion.numerador\n",
    "        return Fraccion(nuevonum, denocomp)\n",
    "\n",
    "    def sumar(self, otrafraccion):\n",
    "        denocomp=self.denominador*otrafraccion.denominador\n",
    "        nuevonum=denocomp*self.numerador + denocomp*otrafraccion.numerador\n",
    "        return Fraccion(nuevonum, denocomp)\n",
    "    def multiplicar(self, otrafraccion):\n",
    "        denopro=self.denominador*otrafraccion.denominador\n",
    "        numepro=self.numerador*otrafraccion.numerador\n",
    "        return Fraccion(numepro, denopro)\n",
    "    def dividir(self, otrafraccion):\n",
    "        numepro=self.numerador*otrafraccion.denominador\n",
    "        denopro=self.denominador*otrafraccion.numerador\n",
    "        return Fraccion(numepro, denopro)\n",
    "    \n",
    "    \n",
    "f1=Fraccion(5,12)\n",
    "f2=Fraccion(3,4)\n",
    "suma=f1.sumar(f2)\n",
    "resta=f1.restar(f2)\n",
    "multiplicacion=f1.multiplicar(f2)\n",
    "division=f1.dividir(f2)\n",
    "#print(f\"tomando la fraccion 1: {f1.numerador}/{f2.numerador}. Su suma es {suma[0]/suma[1]}, su resta es {resta[0]}/{resta[1]}, su producto es {multiplicacion[0]}/ {multiplicacion[1]} y su cociente es {division[0]}/{division[1]} \")\n",
    "#me serviría si fuera una tupla el return pero lo regresé como fraccion\n",
    "print(f\"tomando la fraccion 1: {f1.numerador}/{f1.denominador} y la 2: {f2.numerador}/{f2.denominador}. Su suma es {suma.numerador/suma.denominador}, su resta es {resta.numerador}/{resta.denominador}, su producto es {multiplicacion.numerador}/{multiplicacion.denominador} y su cociente es {division.numerador}/{division.denominador} \")\n"
   ]
  }
 ],
 "metadata": {
  "kernelspec": {
   "display_name": "Python 3",
   "language": "python",
   "name": "python3"
  },
  "language_info": {
   "codemirror_mode": {
    "name": "ipython",
    "version": 3
   },
   "file_extension": ".py",
   "mimetype": "text/x-python",
   "name": "python",
   "nbconvert_exporter": "python",
   "pygments_lexer": "ipython3",
   "version": "3.9.0"
  },
  "orig_nbformat": 4
 },
 "nbformat": 4,
 "nbformat_minor": 2
}
