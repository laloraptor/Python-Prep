{
 "cells": [
  {
   "cell_type": "markdown",
   "metadata": {},
   "source": [
    "## Clases y Programación Orientada a Objetos"
   ]
  },
  {
   "cell_type": "markdown",
   "metadata": {},
   "source": [
    "1) Crear la clase vehículo que contenga los atributos:<br>\n",
    "Color<br>\n",
    "Si es moto, auto, camioneta ó camión<br>\n",
    "Cilindrada del motor"
   ]
  },
  {
   "cell_type": "code",
   "execution_count": 1,
   "metadata": {},
   "outputs": [],
   "source": [
    "class Vehiculo:\n",
    "    def __init__(self,color, tipo, cilindrada):\n",
    "        self.color=color\n",
    "        self.tipo=tipo\n",
    "        self.cilindrada=cilindrada\n",
    "        "
   ]
  },
  {
   "cell_type": "markdown",
   "metadata": {},
   "source": [
    "2) A la clase Vehiculo creada en el punto 1, agregar los siguientes métodos:<br>\n",
    "Acelerar<br>\n",
    "Frenar<br>\n",
    "Doblar<br>"
   ]
  },
  {
   "cell_type": "code",
   "execution_count": 17,
   "metadata": {},
   "outputs": [
    {
     "name": "stdout",
     "output_type": "stream",
     "text": [
      "velocidades iniciales 0 0 0\n",
      "aceleraciones 60 90 50\n",
      "frenados  54 81 29\n",
      "direcciones  -45 56 -120\n"
     ]
    }
   ],
   "source": [
    "class Vehiculo:\n",
    "    def __init__(self,color, tipo, cilindrada):\n",
    "        self.color=color\n",
    "        self.tipo=tipo\n",
    "        self.cilindrada=cilindrada\n",
    "        self.velocidad=0\n",
    "        self.direc=0\n",
    "\n",
    "    def acelerar(self,mas):\n",
    "        #return self.velocidad+=mas NO PUEDES PONER UN RETURN AQUI. Debes esperar a que se actualice la variable y abajo poner el return de la variable actualizada\n",
    "        self.velocidad+=mas\n",
    "        return self.velocidad\n",
    "\n",
    "    def frenar(self,menos):\n",
    "        self.velocidad-=menos\n",
    "        return self.velocidad\n",
    "\n",
    "    def direccion(self,grados):\n",
    "        self.direc+=grados\n",
    "        return self.direc\n"
   ]
  },
  {
   "cell_type": "markdown",
   "metadata": {},
   "source": [
    "3) Instanciar 3 objetos de la clase vehículo y ejecutar sus métodos, probar luego el resultado"
   ]
  },
  {
   "cell_type": "code",
   "execution_count": 18,
   "metadata": {},
   "outputs": [
    {
     "name": "stdout",
     "output_type": "stream",
     "text": [
      "velocidades iniciales 0 0 0\n",
      "aceleraciones 60 90 50\n",
      "frenados  54 81 29\n",
      "direcciones  -45 56 -120\n"
     ]
    }
   ],
   "source": [
    "vehi1=Vehiculo(\"rojo\", \"moto\", 200)\n",
    "vehi2=Vehiculo(\"amarillo\", \"camion\", 300)\n",
    "vehi3=Vehiculo (\"verde\",\"automovil\", 200)\n",
    "\n",
    "\n",
    "print(\"velocidades iniciales\", vehi1.velocidad, vehi2.velocidad, vehi3.velocidad)\n",
    "\n",
    "ace1=vehi1.acelerar(60)\n",
    "ace2=vehi2.acelerar(90)\n",
    "ace3=vehi3.acelerar(50)\n",
    "\n",
    "print(\"aceleraciones\" , ace1,ace2, ace3)\n",
    "\n",
    "fren1=vehi1.frenar(6)\n",
    "fren2=vehi2.frenar(9)\n",
    "fren3=vehi3.frenar(21)\n",
    "\n",
    "print(\"frenados \", fren1, fren2, fren3)\n",
    "\n",
    "dir1=vehi1.direccion(-45)\n",
    "dir2=vehi2.direccion(56)\n",
    "dir3=vehi3.direccion(-120)\n",
    "print(\"direcciones \", dir1, dir2, dir3)\n",
    "\n"
   ]
  },
  {
   "cell_type": "markdown",
   "metadata": {},
   "source": [
    "4) Agregar a la clase Vehiculo, un método que muestre su estado, es decir, a que velocidad se encuentra y su dirección. Y otro método que muestre color, tipo y cilindrada"
   ]
  },
  {
   "cell_type": "code",
   "execution_count": 31,
   "metadata": {},
   "outputs": [],
   "source": [
    "class Vehiculo:\n",
    "    def __init__(self,color, tipo, cilindrada):\n",
    "        self.color=color\n",
    "        self.tipo=tipo\n",
    "        self.cilindrada=cilindrada\n",
    "        self.velocidad=0\n",
    "        self.direc=0\n",
    "\n",
    "    def acelerar(self,mas):\n",
    "        #return self.velocidad+=mas NO PUEDES PONER UN RETURN AQUI. Debes esperar a que se actualice la variable y abajo poner el return de la variable actualizada\n",
    "        self.velocidad+=mas\n",
    "        return self.velocidad\n",
    "\n",
    "    def frenar(self,menos):\n",
    "        self.velocidad-=menos\n",
    "        return self.velocidad\n",
    "\n",
    "    def direccion(self,grados):\n",
    "        self.direc+=grados\n",
    "        return self.direc\n",
    "    def status(self):\n",
    "        print(f\"Este vehiculo tiene el siguiente status: se encuentra avanzando a {self.velocidad} km/h y su pendiente de direccion es de {self.direc}\")\n",
    "    def descrip (self):\n",
    "        print(f\"Este vehículo es un {self.tipo}, de color {self.color} y de cilindrada {self.cilindrada}\")\n",
    "\n",
    "vehi1=Vehiculo(\"rojo\", \"moto\", 200)\n",
    "vehi2=Vehiculo(\"amarillo\", \"camion\", 300)\n",
    "vehi3=Vehiculo (\"verde\",\"automovil\", 200)"
   ]
  },
  {
   "cell_type": "code",
   "execution_count": 32,
   "metadata": {},
   "outputs": [
    {
     "name": "stdout",
     "output_type": "stream",
     "text": [
      "Este vehiculo tiene el siguiente status: se encuentra avanzando a 0 km/h y su pendiente de direccion es de 0\n",
      "Este vehículo es un moto, de color rojo y de cilindrada 200\n",
      "Este vehiculo tiene el siguiente status: se encuentra avanzando a 0 km/h y su pendiente de direccion es de 0\n",
      "Este vehículo es un camion, de color amarillo y de cilindrada 300\n",
      "Este vehiculo tiene el siguiente status: se encuentra avanzando a 0 km/h y su pendiente de direccion es de 0\n",
      "Este vehículo es un automovil, de color verde y de cilindrada 200\n",
      "Este vehiculo tiene el siguiente status: se encuentra avanzando a 54 km/h y su pendiente de direccion es de -45\n",
      "Este vehículo es un moto, de color rojo y de cilindrada 200\n",
      "Este vehiculo tiene el siguiente status: se encuentra avanzando a 81 km/h y su pendiente de direccion es de 56\n",
      "Este vehículo es un camion, de color amarillo y de cilindrada 300\n",
      "Este vehiculo tiene el siguiente status: se encuentra avanzando a 29 km/h y su pendiente de direccion es de -120\n",
      "Este vehículo es un automovil, de color verde y de cilindrada 200\n"
     ]
    }
   ],
   "source": [
    "vehi1.status() #si mantengo los parentesis el print, me da un error de note al final, porque ejecuta el print sin nada que retorna para el, no es necesaria porque el metodo es un print\n",
    "vehi1.descrip()\n",
    "vehi2.status()\n",
    "vehi2.descrip()\n",
    "vehi3.status()\n",
    "vehi3.descrip()\n",
    "\n",
    "ace1=vehi1.acelerar(60)\n",
    "ace2=vehi2.acelerar(90)\n",
    "ace3=vehi3.acelerar(50)\n",
    "fren1=vehi1.frenar(6)\n",
    "fren2=vehi2.frenar(9)\n",
    "fren3=vehi3.frenar(21)\n",
    "dir1=vehi1.direccion(-45)\n",
    "dir2=vehi2.direccion(56)\n",
    "dir3=vehi3.direccion(-120)\n",
    "\n",
    "vehi1.status()\n",
    "vehi1.descrip()\n",
    "vehi2.status()\n",
    "vehi2.descrip()\n",
    "vehi3.status()\n",
    "vehi3.descrip()"
   ]
  },
  {
   "cell_type": "markdown",
   "metadata": {},
   "source": [
    "5) Crear una clase que permita utilizar las funciones creadas en la práctica del módulo 6<br>\n",
    "Verificar Primo<br>\n",
    "Valor modal<br>\n",
    "Conversión grados<br>\n",
    "Factorial<br>"
   ]
  },
  {
   "cell_type": "code",
   "execution_count": 58,
   "metadata": {},
   "outputs": [],
   "source": [
    "class Funmod6:  \n",
    "    def es_primo(self, numero):\n",
    "        primo=True\n",
    "        for n in range (2,numero):\n",
    "            if numero%n==0:\n",
    "                primo=False\n",
    "                break\n",
    "        return primo\n",
    "\n",
    "    def modas(self, lista, mayor=True):\n",
    "        import random\n",
    "        listaunicos=[]\n",
    "        pares=[]\n",
    "        repeticiones=[]\n",
    "        varmodas=False\n",
    "        modasrepeti=[]\n",
    "        for n in lista:\n",
    "            if n not in listaunicos:\n",
    "                listaunicos.append(n)\n",
    "        for a in listaunicos:\n",
    "            apariciones=lista.count(a)\n",
    "            pares.append((a,apariciones)) #puedes añadir los pares sin necesidad de iterarlos en listas\n",
    "            #print (f\"El número {a} se repite {apariciones} veces\")\n",
    "            repeticiones.append(lista.count(a))\n",
    "        if mayor==True:\n",
    "            paresdesc = sorted(pares, key=lambda x: x[1], reverse=True)\n",
    "            #print(repeticiones)\n",
    "            repeticiones=sorted(repeticiones,reverse=True )\n",
    "            #print(repeticiones)\n",
    "            #print(paresdesc)\n",
    "            valmax=repeticiones[0]\n",
    "        elif mayor==False:\n",
    "            paresdesc = sorted(pares, key=lambda x: x[1], reverse=False)\n",
    "            #print(repeticiones)\n",
    "            repeticiones=sorted(repeticiones,reverse=False )\n",
    "            #print(repeticiones)\n",
    "            #print(paresdesc)\n",
    "            valmax=repeticiones[0]\n",
    "\n",
    "        for n in range (1, len(repeticiones)):\n",
    "                if repeticiones[n]==valmax:\n",
    "                        varmodas=True\n",
    "        if varmodas==True:\n",
    "            return f\"La lista tiene varias modas. Te devolveremos cualquier valor: {random.choice(repeticiones)}\"\n",
    "        elif varmodas==False and mayor==True:\n",
    "                for i in paresdesc:\n",
    "                        numeromasrep=i[0]\n",
    "                        break\n",
    "                #return [numeromasrep,valmax] #este es el que sería operativo para usar la función después\n",
    "                return f\"El valor que más se repite es el {numeromasrep} y lo hace {valmax} veces\" #Este es el que serviría para un programa\n",
    "        elif varmodas==False and mayor==False:\n",
    "                for i in paresdesc:\n",
    "                        numeromasrep=i[0]\n",
    "                        break\n",
    "                #return [numeromasrep,valmax] #este es el que sería operativo para usar la función después\n",
    "                return f\"El valor que menos se repite (y que es menor que todos los demás números) es el {numeromasrep} y lo hace {valmax} veces\" #Este es el que serviría para un programa\n",
    "\n",
    "    def convertirtem(self, valor,escalainicial,escalafinal):\n",
    "        if escalainicial==\"celsius\" and escalafinal==\"celsius\":\n",
    "            return valor\n",
    "        if escalainicial==\"celsius\" and escalafinal==\"farenheit\":\n",
    "            return valor*9/5+32\n",
    "        elif escalainicial==\"celsius\" and escalafinal==\"kelvin\":\n",
    "            return valor+273.15\n",
    "        elif escalainicial==\"farenheit\" and escalafinal==\"farenheit\":\n",
    "            return valor\n",
    "        elif escalainicial==\"farenheit\" and escalafinal==\"celsius\":\n",
    "            return (valor-32)/(9/5)\n",
    "        elif escalainicial==\"farenheit\" and escalafinal==\"kelvin\":\n",
    "            return ((valor-32)/(9/5))+273.15\n",
    "        elif escalainicial==\"kelvin\" and escalafinal==\"kelvin\":\n",
    "            return valor\n",
    "        elif escalainicial==\"kelvin\" and escalafinal==\"celsius\":\n",
    "            return valor-273.15\n",
    "        elif escalainicial==\"kelvin\" and escalafinal==\"farenheit\":\n",
    "            return ((valor-273.15)*(9/5))+32\n",
    "    def factorial(self,numero):\n",
    "        if (type(numero) != int):\n",
    "            return \"Error. El numero debe ser un entero.\"\n",
    "        if(numero < 0):\n",
    "            return \"Error. El numero debe ser positivo\"\n",
    "        if (numero > 1):\n",
    "            numero = numero * self.factorial(numero - 1)\n",
    "        return numero\n"
   ]
  },
  {
   "cell_type": "markdown",
   "metadata": {},
   "source": [
    "6) Probar las funciones incorporadas en la clase del punto 5"
   ]
  },
  {
   "cell_type": "code",
   "execution_count": 57,
   "metadata": {},
   "outputs": [
    {
     "name": "stdout",
     "output_type": "stream",
     "text": [
      "El número21 es primo? La respuesta es: False\n",
      "El valor que más se repite es el 78 y lo hace 12 veces\n",
      "234\n",
      "120\n"
     ]
    }
   ],
   "source": [
    "esprimo=Funmod6()\n",
    "numero=21\n",
    "evaluacionprimo=esprimo.es_primo(numero)\n",
    "print(f\"El número{numero} es primo? La respuesta es: {evaluacionprimo}\")\n",
    "modal=Funmod6()    \n",
    "evaluacionmodal=modal.modas([2,4,3,4,5,6,7,7,78,78,78,78,78,78,78,78,78,0,78,78,8,3,3,45,45,2,34, 34,1,4,2,2,4,5,6,3,4,6,7,5,6,8,7,78,3,3,3,2,4,5,6,1])\n",
    "print(evaluacionmodal)\n",
    "convertir=Funmod6()\n",
    "listatempo=[234, \"kelvin\", \"kelvin\"]\n",
    "evaluaciontemp=convertir.convertirtem(*listatempo)\n",
    "print(evaluaciontemp)\n",
    "factonum=Funmod6()\n",
    "numerofactorial=5\n",
    "pruebafactorial=factonum.factorial(numerofactorial)\n",
    "print(pruebafactorial)"
   ]
  },
  {
   "cell_type": "markdown",
   "metadata": {},
   "source": [
    "7) Es necesario que la clase creada en el punto 5 contenga una lista, sobre la cual se aplquen las funciones incorporadas"
   ]
  },
  {
   "cell_type": "code",
   "execution_count": 75,
   "metadata": {},
   "outputs": [],
   "source": [
    "class Funmod6:  \n",
    "    def __init__(self, lisentrada):\n",
    "       self.lisentrada=lisentrada \n",
    "    \n",
    "    def _esprimo(self):\n",
    "        for n in self.lisentrada:\n",
    "            if self.es_primo(n)==True:\n",
    "                   print (f\"El número {n} es primo\")\n",
    "            else:\n",
    "                 print(f\"El número {n} no es primo\")\n",
    "    def _convertirtemp(self, escalainicial, escalafinal):\n",
    "         for n in self.lisentrada:\n",
    "              print(f\"{n} grados {escalainicial}, equivalen a {self.convertirtem(n,escalainicial,escalafinal)} en grados {escalafinal} \")\n",
    "            \n",
    "    def _factorial(self):\n",
    "         for n in self.lisentrada:\n",
    "              print(f\"El factorial de {n} es: {self.factorial(n)}\")\n",
    "\n",
    "    def es_primo(self, numero):\n",
    "        primo=True\n",
    "        for n in range (2,numero):\n",
    "            if numero%n==0:\n",
    "                primo=False\n",
    "                break\n",
    "        return primo\n",
    "\n",
    "    def modas(self, mayor=True):\n",
    "        import random\n",
    "        listaunicos=[]\n",
    "        pares=[]\n",
    "        repeticiones=[]\n",
    "        varmodas=False\n",
    "        modasrepeti=[]\n",
    "        for n in self.lisentrada:\n",
    "            if n not in listaunicos:\n",
    "                listaunicos.append(n)\n",
    "        for a in listaunicos:\n",
    "            apariciones=self.lisentrada.count(a)\n",
    "            pares.append((a,apariciones)) #puedes añadir los pares sin necesidad de iterarlos en listas\n",
    "            #print (f\"El número {a} se repite {apariciones} veces\")\n",
    "            repeticiones.append(self.lisentrada.count(a))\n",
    "        if mayor==True:\n",
    "            paresdesc = sorted(pares, key=lambda x: x[1], reverse=True)\n",
    "            #print(repeticiones)\n",
    "            repeticiones=sorted(repeticiones,reverse=True )\n",
    "            #print(repeticiones)\n",
    "            #print(paresdesc)\n",
    "            valmax=repeticiones[0]\n",
    "        elif mayor==False:\n",
    "            paresdesc = sorted(pares, key=lambda x: x[1], reverse=False)\n",
    "            #print(repeticiones)\n",
    "            repeticiones=sorted(repeticiones,reverse=False )\n",
    "            #print(repeticiones)\n",
    "            #print(paresdesc)\n",
    "            valmax=repeticiones[0]\n",
    "\n",
    "        for n in range (1, len(repeticiones)):\n",
    "                if repeticiones[n]==valmax:\n",
    "                        varmodas=True\n",
    "        if varmodas==True:\n",
    "            return f\"La lista tiene varias modas. Te devolveremos cualquier valor: {random.choice(repeticiones)}\"\n",
    "        elif varmodas==False and mayor==True:\n",
    "                for i in paresdesc:\n",
    "                        numeromasrep=i[0]\n",
    "                        break\n",
    "                #return [numeromasrep,valmax] #este es el que sería operativo para usar la función después\n",
    "                return f\"El valor que más se repite es el {numeromasrep} y lo hace {valmax} veces\" #Este es el que serviría para un programa\n",
    "        elif varmodas==False and mayor==False:\n",
    "                for i in paresdesc:\n",
    "                        numeromasrep=i[0]\n",
    "                        break\n",
    "                #return [numeromasrep,valmax] #este es el que sería operativo para usar la función después\n",
    "                return f\"El valor que menos se repite (y que es menor que todos los demás números) es el {numeromasrep} y lo hace {valmax} veces\" #Este es el que serviría para un programa\n",
    "\n",
    "    def convertirtem(self, valor,escalainicial,escalafinal):\n",
    "        if escalainicial==\"celsius\" and escalafinal==\"celsius\":\n",
    "            return valor\n",
    "        if escalainicial==\"celsius\" and escalafinal==\"farenheit\":\n",
    "            return valor*9/5+32\n",
    "        elif escalainicial==\"celsius\" and escalafinal==\"kelvin\":\n",
    "            return valor+273.15\n",
    "        elif escalainicial==\"farenheit\" and escalafinal==\"farenheit\":\n",
    "            return valor\n",
    "        elif escalainicial==\"farenheit\" and escalafinal==\"celsius\":\n",
    "            return (valor-32)/(9/5)\n",
    "        elif escalainicial==\"farenheit\" and escalafinal==\"kelvin\":\n",
    "            return ((valor-32)/(9/5))+273.15\n",
    "        elif escalainicial==\"kelvin\" and escalafinal==\"kelvin\":\n",
    "            return valor\n",
    "        elif escalainicial==\"kelvin\" and escalafinal==\"celsius\":\n",
    "            return valor-273.15\n",
    "        elif escalainicial==\"kelvin\" and escalafinal==\"farenheit\":\n",
    "            return ((valor-273.15)*(9/5))+32\n",
    "    def factorial(self,numero):\n",
    "        if (type(numero) != int):\n",
    "            return \"Error. El numero debe ser un entero.\"\n",
    "        if(numero < 0):\n",
    "            return \"Error. El numero debe ser positivo\"\n",
    "        if (numero > 1):\n",
    "            numero = numero * self.factorial(numero - 1)\n",
    "        return numero"
   ]
  },
  {
   "cell_type": "code",
   "execution_count": 76,
   "metadata": {},
   "outputs": [
    {
     "name": "stdout",
     "output_type": "stream",
     "text": [
      "El número 2 es primo\n",
      "El número 4 no es primo\n",
      "El número 3 es primo\n",
      "El número 4 no es primo\n",
      "El número 5 es primo\n",
      "El número 6 no es primo\n",
      "El número 7 es primo\n",
      "El número 7 es primo\n",
      "El número 78 no es primo\n",
      "El número 78 no es primo\n",
      "El número 78 no es primo\n",
      "El factorial de 2 es: 2\n",
      "El factorial de 4 es: 24\n",
      "El factorial de 3 es: 6\n",
      "El factorial de 4 es: 24\n",
      "El factorial de 5 es: 120\n",
      "El factorial de 6 es: 720\n",
      "El factorial de 7 es: 5040\n",
      "El factorial de 7 es: 5040\n",
      "El factorial de 78 es: 11324281178206297831457521158732046228731749579488251990048962825668835325234200766245086213177344000000000000000000\n",
      "El factorial de 78 es: 11324281178206297831457521158732046228731749579488251990048962825668835325234200766245086213177344000000000000000000\n",
      "El factorial de 78 es: 11324281178206297831457521158732046228731749579488251990048962825668835325234200766245086213177344000000000000000000\n",
      "2 grados kelvin, equivalen a 2 en grados kelvin \n",
      "4 grados kelvin, equivalen a 4 en grados kelvin \n",
      "3 grados kelvin, equivalen a 3 en grados kelvin \n",
      "4 grados kelvin, equivalen a 4 en grados kelvin \n",
      "5 grados kelvin, equivalen a 5 en grados kelvin \n",
      "6 grados kelvin, equivalen a 6 en grados kelvin \n",
      "7 grados kelvin, equivalen a 7 en grados kelvin \n",
      "7 grados kelvin, equivalen a 7 en grados kelvin \n",
      "78 grados kelvin, equivalen a 78 en grados kelvin \n",
      "78 grados kelvin, equivalen a 78 en grados kelvin \n",
      "78 grados kelvin, equivalen a 78 en grados kelvin \n"
     ]
    }
   ],
   "source": [
    "prueba=[2,4,3,4,5,6,7,7,78,78,78]\n",
    "instancia1=Funmod6(prueba)\n",
    "instancia1._esprimo()\n",
    "instancia1.modas()\n",
    "instancia1._factorial()\n",
    "instancia1._convertirtemp(\"kelvin\",\"kelvin\")\n"
   ]
  },
  {
   "cell_type": "code",
   "execution_count": 57,
   "metadata": {},
   "outputs": [
    {
     "name": "stdout",
     "output_type": "stream",
     "text": [
      "1 grados celsius son 33.8 grados farenheit\n",
      "1 grados celsius son 33.8 grados farenheit\n",
      "2 grados celsius son 35.6 grados farenheit\n",
      "5 grados celsius son 41.0 grados farenheit\n",
      "8 grados celsius son 46.4 grados farenheit\n",
      "8 grados celsius son 46.4 grados farenheit\n",
      "9 grados celsius son 48.2 grados farenheit\n",
      "11 grados celsius son 51.8 grados farenheit\n",
      "15 grados celsius son 59.0 grados farenheit\n",
      "16 grados celsius son 60.8 grados farenheit\n",
      "16 grados celsius son 60.8 grados farenheit\n",
      "16 grados celsius son 60.8 grados farenheit\n",
      "18 grados celsius son 64.4 grados farenheit\n",
      "20 grados celsius son 68.0 grados farenheit\n"
     ]
    }
   ],
   "source": []
  },
  {
   "cell_type": "markdown",
   "metadata": {},
   "source": [
    "8) Crear un archivo .py aparte y ubicar allí la clase generada en el punto anterior. Luego realizar la importación del módulo y probar alguna de sus funciones"
   ]
  },
  {
   "cell_type": "code",
   "execution_count": 78,
   "metadata": {},
   "outputs": [
    {
     "name": "stdout",
     "output_type": "stream",
     "text": [
      "El número 1 es primo\n",
      "El número 2 es primo\n",
      "El número 3 es primo\n",
      "El número 4 no es primo\n",
      "El número 5 es primo\n",
      "El número 6 no es primo\n",
      "El número 7 es primo\n",
      "El número 8 no es primo\n",
      "El número 9 no es primo\n",
      "El factorial de 1 es: 1\n",
      "El factorial de 2 es: 2\n",
      "El factorial de 3 es: 6\n",
      "El factorial de 4 es: 24\n",
      "El factorial de 5 es: 120\n",
      "El factorial de 6 es: 720\n",
      "El factorial de 7 es: 5040\n",
      "El factorial de 8 es: 40320\n",
      "El factorial de 9 es: 362880\n",
      "1 grados kelvin, equivalen a -272.15 en grados celsius \n",
      "2 grados kelvin, equivalen a -271.15 en grados celsius \n",
      "3 grados kelvin, equivalen a -270.15 en grados celsius \n",
      "4 grados kelvin, equivalen a -269.15 en grados celsius \n",
      "5 grados kelvin, equivalen a -268.15 en grados celsius \n",
      "6 grados kelvin, equivalen a -267.15 en grados celsius \n",
      "7 grados kelvin, equivalen a -266.15 en grados celsius \n",
      "8 grados kelvin, equivalen a -265.15 en grados celsius \n",
      "9 grados kelvin, equivalen a -264.15 en grados celsius \n"
     ]
    }
   ],
   "source": [
    "import modulosedu\n",
    "listaentrada=[1,2,3,4,5,6,7,8,9]\n",
    "i1=modulosedu.Funmod6(listaentrada)\n",
    "i1._esprimo()\n",
    "i1.modas()\n",
    "i1._factorial()\n",
    "i1._convertirtemp(\"kelvin\",\"celsius\")"
   ]
  },
  {
   "cell_type": "code",
   "execution_count": 79,
   "metadata": {},
   "outputs": [
    {
     "name": "stdout",
     "output_type": "stream",
     "text": [
      "El número 1 es primo\n",
      "El número 2 es primo\n",
      "El número 3 es primo\n",
      "El número 4 no es primo\n",
      "El número 5 es primo\n",
      "El número 6 no es primo\n",
      "El número 7 es primo\n",
      "El número 8 no es primo\n",
      "El número 9 no es primo\n",
      "El factorial de 1 es: 1\n",
      "El factorial de 2 es: 2\n",
      "El factorial de 3 es: 6\n",
      "El factorial de 4 es: 24\n",
      "El factorial de 5 es: 120\n",
      "El factorial de 6 es: 720\n",
      "El factorial de 7 es: 5040\n",
      "El factorial de 8 es: 40320\n",
      "El factorial de 9 es: 362880\n",
      "1 grados kelvin, equivalen a -272.15 en grados celsius \n",
      "2 grados kelvin, equivalen a -271.15 en grados celsius \n",
      "3 grados kelvin, equivalen a -270.15 en grados celsius \n",
      "4 grados kelvin, equivalen a -269.15 en grados celsius \n",
      "5 grados kelvin, equivalen a -268.15 en grados celsius \n",
      "6 grados kelvin, equivalen a -267.15 en grados celsius \n",
      "7 grados kelvin, equivalen a -266.15 en grados celsius \n",
      "8 grados kelvin, equivalen a -265.15 en grados celsius \n",
      "9 grados kelvin, equivalen a -264.15 en grados celsius \n"
     ]
    }
   ],
   "source": [
    "from modulosedu import *\n",
    "listaentrada=[1,2,3,4,5,6,7,8,9]\n",
    "i1=Funmod6(listaentrada)\n",
    "i1._esprimo()\n",
    "i1.modas()\n",
    "i1._factorial()\n",
    "i1._convertirtemp(\"kelvin\",\"celsius\")"
   ]
  },
  {
   "cell_type": "code",
   "execution_count": 80,
   "metadata": {},
   "outputs": [
    {
     "name": "stdout",
     "output_type": "stream",
     "text": [
      "['c:\\\\Users\\\\Edupe\\\\OneDrive\\\\Escritorio\\\\Python-Prep\\\\07 - Clases & OOP', 'c:\\\\Users\\\\Edupe\\\\AppData\\\\Local\\\\Programs\\\\Python\\\\Python39\\\\python39.zip', 'c:\\\\Users\\\\Edupe\\\\AppData\\\\Local\\\\Programs\\\\Python\\\\Python39\\\\DLLs', 'c:\\\\Users\\\\Edupe\\\\AppData\\\\Local\\\\Programs\\\\Python\\\\Python39\\\\lib', 'c:\\\\Users\\\\Edupe\\\\AppData\\\\Local\\\\Programs\\\\Python\\\\Python39', '', 'c:\\\\Users\\\\Edupe\\\\AppData\\\\Local\\\\Programs\\\\Python\\\\Python39\\\\lib\\\\site-packages', 'c:\\\\Users\\\\Edupe\\\\AppData\\\\Local\\\\Programs\\\\Python\\\\Python39\\\\lib\\\\site-packages\\\\win32', 'c:\\\\Users\\\\Edupe\\\\AppData\\\\Local\\\\Programs\\\\Python\\\\Python39\\\\lib\\\\site-packages\\\\win32\\\\lib', 'c:\\\\Users\\\\Edupe\\\\AppData\\\\Local\\\\Programs\\\\Python\\\\Python39\\\\lib\\\\site-packages\\\\Pythonwin']\n"
     ]
    }
   ],
   "source": [
    "import sys\n",
    "sys.path.append() #añadir ruta para las librerías"
   ]
  }
 ],
 "metadata": {
  "interpreter": {
   "hash": "c85384e4cb51c8b72350f3a8712cc8351fdc3955e32a27f9b60c6242ab125f01"
  },
  "kernelspec": {
   "display_name": "Python 3 (ipykernel)",
   "language": "python",
   "name": "python3"
  },
  "language_info": {
   "codemirror_mode": {
    "name": "ipython",
    "version": 3
   },
   "file_extension": ".py",
   "mimetype": "text/x-python",
   "name": "python",
   "nbconvert_exporter": "python",
   "pygments_lexer": "ipython3",
   "version": "3.9.0"
  }
 },
 "nbformat": 4,
 "nbformat_minor": 4
}
