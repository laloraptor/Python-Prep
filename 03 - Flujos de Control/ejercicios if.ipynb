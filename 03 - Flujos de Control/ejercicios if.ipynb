{
 "cells": [
  {
   "attachments": {},
   "cell_type": "markdown",
   "metadata": {},
   "source": [
    "Escribe un programa que pida al usuario su edad y le diga si es mayor de edad (18 años o más) o no."
   ]
  },
  {
   "cell_type": "code",
   "execution_count": 6,
   "metadata": {},
   "outputs": [
    {
     "name": "stdout",
     "output_type": "stream",
     "text": [
      "en efecto, puedes pasar a pistear porque tienes30 años\n"
     ]
    }
   ],
   "source": [
    "edad= int(input(\"Escribe aquí cuantos años tienes\"))\n",
    "if edad>=18:\n",
    "    print(f\"en efecto, puedes pasar a pistear porque tienes{edad} años\")\n",
    "else:\n",
    "    print (f\"No puedes pasar a pistear, debes tener al menos 18 años, tú tienes  {edad}\")"
   ]
  },
  {
   "attachments": {},
   "cell_type": "markdown",
   "metadata": {},
   "source": [
    "Escribe un programa que pida al usuario dos números y le diga cuál de ellos es mayor."
   ]
  },
  {
   "cell_type": "code",
   "execution_count": 11,
   "metadata": {},
   "outputs": [
    {
     "name": "stdout",
     "output_type": "stream",
     "text": [
      "el siguiente programa te pedirá dos numeros para decirte cual de ellos es mayor. A continuación proporciona los dos numeros\n",
      "El numero 1 es mayor al numero 2. Porque 30 es mayor que 23\n"
     ]
    }
   ],
   "source": [
    "print(\"el siguiente programa te pedirá dos numeros para decirte cual de ellos es mayor. A continuación proporciona los dos numeros\")\n",
    "num1= int(input(\"Dame el primer número: \"))\n",
    "num2=int(input(\"Dame el segundo número: \"))\n",
    "if num1>num2:\n",
    "    print(f\"El numero 1 es mayor al numero 2. Porque {num1} es mayor que {num2}\")\n",
    "else:\n",
    "    print (f\"El numero 2 es mayor al numero 1 Porque {num2} es mayor que {num1}\")"
   ]
  },
  {
   "attachments": {},
   "cell_type": "markdown",
   "metadata": {},
   "source": [
    "Escribe un programa que pida al usuario un número y le diga si es positivo, negativo o cero."
   ]
  },
  {
   "cell_type": "code",
   "execution_count": 13,
   "metadata": {},
   "outputs": [
    {
     "name": "stdout",
     "output_type": "stream",
     "text": [
      "El siguiente programa te pedirá un número y te dirá si es positivo, negativo o cero.\n",
      "proporcionaste un cero\n"
     ]
    }
   ],
   "source": [
    "print(\"El siguiente programa te pedirá un número y te dirá si es positivo, negativo o cero.\")\n",
    "num= int(input(\"Proporciona el número: \"))\n",
    "if num>0:\n",
    "    print(\"proporcionaste un número positivo\")\n",
    "elif num<0:\n",
    "    print(\"proporcionaste un número negativo\")\n",
    "else:\n",
    "    print(\"proporcionaste un cero\")"
   ]
  },
  {
   "attachments": {},
   "cell_type": "markdown",
   "metadata": {},
   "source": [
    "Escribe un programa que pida al usuario un número y le diga si es par o impar.\n"
   ]
  },
  {
   "cell_type": "code",
   "execution_count": 16,
   "metadata": {},
   "outputs": [
    {
     "name": "stdout",
     "output_type": "stream",
     "text": [
      "este programa te pedirá un número y te dirá si es par o impar\n",
      "El número 13 es impar\n"
     ]
    }
   ],
   "source": [
    "print (\"este programa te pedirá un número y te dirá si es par o impar\")\n",
    "num=int(input(\"Proporciona el número\"))\n",
    "if num%2==0:\n",
    "    print(f\"El número {num} es par\")\n",
    "else:\n",
    "    print(f\"El número {num} es impar\")\n",
    "    "
   ]
  },
  {
   "attachments": {},
   "cell_type": "markdown",
   "metadata": {},
   "source": [
    "Escribe un programa que pida al usuario un número y le diga si es divisible entre 2 y 3 a la vez."
   ]
  },
  {
   "cell_type": "code",
   "execution_count": 19,
   "metadata": {},
   "outputs": [
    {
     "name": "stdout",
     "output_type": "stream",
     "text": [
      "Este programa te pedirá un número y te  dirá si es divisible entre 2 y 3 a la vez\n",
      "El número 12 es divisible entre 2 y 3 a la vez\n"
     ]
    }
   ],
   "source": [
    "print(\"Este programa te pedirá un número y te  dirá si es divisible entre 2 y 3 a la vez\")\n",
    "num=int(input(\"Proporciona el numero a comprobar\"))\n",
    "if num%2==0 and num%3==0:\n",
    "    print(f\"El número {num} es divisible entre 2 y 3 a la vez\")\n",
    "else:\n",
    "    print(f\"el número {num} no es divisible entre 2 y 3 a la vez\")"
   ]
  },
  {
   "attachments": {},
   "cell_type": "markdown",
   "metadata": {},
   "source": [
    "Escribe un programa que pida al usuario su nombre y le dé la bienvenida si su nombre comienza con la letra \"A\" o \"a\"."
   ]
  },
  {
   "cell_type": "code",
   "execution_count": 24,
   "metadata": {},
   "outputs": [
    {
     "name": "stdout",
     "output_type": "stream",
     "text": [
      "Este programa te pedirá tu nombre y si comienza con la letra a o A te dará la bienvenida\n",
      "Sé bienvenido a este programa. Tu nombre Alda empieza con la letra a o A\n"
     ]
    }
   ],
   "source": [
    "print(\"Este programa te pedirá tu nombre y si comienza con la letra a o A te dará la bienvenida\")\n",
    "nombre=input(\"Escribe aquí tu nombre\")\n",
    "if nombre[0]==\"a\" or nombre[0]==\"A\":\n",
    "    print(f\"Sé bienvenido a este programa. Tu nombre {nombre} empieza con la letra a o A\")\n",
    "else:\n",
    "    print(\"tu nombre no empieza con la letra A o a\")"
   ]
  },
  {
   "attachments": {},
   "cell_type": "markdown",
   "metadata": {},
   "source": [
    "Escribe un programa que pida al usuario un número del 1 al 7 y le diga el día de la semana correspondiente (1 es lunes, 2 es martes, etc.)."
   ]
  },
  {
   "cell_type": "code",
   "execution_count": 28,
   "metadata": {},
   "outputs": [
    {
     "name": "stdout",
     "output_type": "stream",
     "text": [
      "el nñumero no es vàlido, pusiste uno mayor a 7, por favor pon uno entre 1 y 7\n"
     ]
    }
   ],
   "source": [
    "numero=int(input(\"Proporciona un número entre el 1 y el 7 y te diré a qué día de la semana corresponde\"))\n",
    "if numero<=0:\n",
    "    print(\"el número que proporcionaste no es válido pusiste uno entre 0 y -infinito, por favor pon uno entre 1 y 7\")\n",
    "elif numero>=8:\n",
    "    print(\"el nñumero no es vàlido, pusiste uno mayor a 7, por favor pon uno entre 1 y 7\")\n",
    "elif numero==1:\n",
    "    print(f\"tu número fue {numero} y le corresponde el día lunes\")\n",
    "elif numero==2:\n",
    "    print(f\"tu número fue {numero} y le corresponde el día martes\")\n",
    "elif numero==3:\n",
    "    print(f\"tu número fue {numero} y le corresponde el día miercoles\")\n",
    "elif numero==4:\n",
    "    print(f\"tu número fue {numero} y le corresponde el día jueves\")\n",
    "elif numero==5:\n",
    "    print(f\"tu número fue {numero} y le corresponde el día viernes\")\n",
    "elif numero==6:\n",
    "    print(f\"tu número fue {numero} y le corresponde el día sabado\")\n",
    "elif numero==7:\n",
    "    print(f\"tu número fue {numero} y le corresponde el día domingo\")"
   ]
  },
  {
   "attachments": {},
   "cell_type": "markdown",
   "metadata": {},
   "source": [
    "Escribe un programa que pida al usuario una letra y le diga si es una vocal o una consonante."
   ]
  },
  {
   "cell_type": "code",
   "execution_count": 49,
   "metadata": {},
   "outputs": [
    {
     "name": "stdout",
     "output_type": "stream",
     "text": [
      "Ingresaste 7 pero no es una letra valida\n"
     ]
    }
   ],
   "source": [
    "letra= input(\"Ingresa una letra para comprobar si es una vocal o es una consonante\")\n",
    "if letra.lower() in \"aeiou\":\n",
    "    print(f\"La letra que ingresaste es {letra} y es una vocal\")\n",
    "elif letra.lower() in \"bcdfghjklmnñpqrstvwxyz\":\n",
    "    print(f\"la letra {letra} es una consonante\")\n",
    "else:\n",
    "    print(f\"Ingresaste {letra} pero no es una letra valida\")\n"
   ]
  },
  {
   "attachments": {},
   "cell_type": "markdown",
   "metadata": {},
   "source": [
    "Construir un programa que simule el funcionamiento de una calculadora que puede realizar las cuatro operaciones aritméticas básicas (suma, resta, multiplicación y división). El usuario debe especificar la operación con el primer carácter  del nombre de la operación.\n",
    "S, s – Suma\n",
    "R, r – Resta\n",
    "P, p, M, m – Multiplicación\n",
    "D, d - División"
   ]
  },
  {
   "cell_type": "code",
   "execution_count": 58,
   "metadata": {},
   "outputs": [
    {
     "name": "stdout",
     "output_type": "stream",
     "text": [
      "Este es un programa que simula una calculadora  aritmética básica con dos numeros. Proporciona los numeros e indica la operacion a realizar: s para suma, r para resta, m para multiplicacion y d para division\n",
      "No proporcionaste numeros\n"
     ]
    }
   ],
   "source": [
    "print(\"Este es un programa que simula una calculadora  aritmética básica con dos numeros. Proporciona los numeros e indica la operacion a realizar: s para suma, r para resta, m para multiplicacion y d para division\")\n",
    "num1=float(input(\"Proporciona aqui el primer numero\"))\n",
    "num2=float(input(\"Proporciona aqui el segundo numero\"))\n",
    "operacion=input(\"indica aqui la operacion a realizar: s suma, r resta, m multiplicacion o d division\")\n",
    "if operacion.lower()==\"s\":\n",
    "    print(f\"Indicas que deseas {operacion}, por lo cual vamos a sumar los valores. La suma de {num1} y {num2} es:\", str(num1+num2) )\n",
    "elif operacion.lower()==\"r\":\n",
    "    print(f\"Indicas que deseas {operacion}, por lo cual vamos a restar los valores. La resta de {num1} menos {num2} es:\", str(num1-num2) )\n",
    "elif operacion.lower()==\"m\":\n",
    "    print(f\"Indicas que deseas {operacion}, por lo cual vamos a multiplicar los valores. La multiplicacion de {num1} por {num2} es:\", str(num1*num2) )\n",
    "elif operacion.lower()==\"d\":\n",
    "    print(f\"Indicas que deseas {operacion}, por lo cual vamos a dividir los valores. La division de {num1} entre {num2} es:\", str(num1/num2) )\n",
    "else:\n",
    "    print(\"No proporcionaste una operación válida\")\n",
    "\n"
   ]
  },
  {
   "attachments": {},
   "cell_type": "markdown",
   "metadata": {},
   "source": [
    "Hacer un programa que simule un cajero automático con un saldo inicial de $1000 y tendrá el siguiente menú de opciones: \n",
    "1. Ingresar dinero en la cuenta\n",
    "2. Retirar dinero de la cuenta\n",
    "3. Mostrar dinero disponible\n",
    "4. Salir"
   ]
  },
  {
   "cell_type": "code",
   "execution_count": 62,
   "metadata": {},
   "outputs": [
    {
     "name": "stdout",
     "output_type": "stream",
     "text": [
      "\t.:Menu:.\n",
      "1. Ingresar dinero en la cuenta\n",
      "2. Retirar dinero de la cuenta\n",
      "3. Mostrar dinero disponible\n",
      "4. Salir\n",
      "Su cuenta tenía 1000 pesos, y acaba de añadir 200.0. Su nuevo total es de: 1200.0 gracias por usar nuestros servicios, vuelva pronto\n"
     ]
    }
   ],
   "source": [
    "print(\"\\t.:Menu:.\")\n",
    "print(\"1. Ingresar dinero en la cuenta\")\n",
    "print(\"2. Retirar dinero de la cuenta\")\n",
    "print(\"3. Mostrar dinero disponible\")\n",
    "print(\"4. Salir\")\n",
    "saldo=1000\n",
    "eleccion=int(input(\"Digite a continuación la operación que desea realizar\"))\n",
    "if eleccion==4:\n",
    "    print(\"Eligió la opción de salir. Gracias por usar nuestros servicios, vuelva pronto \")\n",
    "elif eleccion==1:\n",
    "    extra=float(input(\"Por favor indique cuanto desea agregar a su cuenta\"))\n",
    "    print(f\"Su cuenta tenía {saldo} pesos, y acaba de añadir {extra}. Su nuevo total es de:\", str(saldo+extra), \"gracias por usar nuestros servicios, vuelva pronto\")\n",
    "elif eleccion==2:\n",
    "    menos=float(input(\"Por favor indique cuanto desea retirar a su cuenta\"))\n",
    "    print(f\"Su cuenta tenía {saldo} pesos, y acaba de retirar {menos}. Su nuevo total es de:\", str(saldo-menos), \"gracias por usar nuestros servicios, vuelva pronto\")\n",
    "elif eleccion==3:\n",
    "    print(\"Ha seleccionado la opción de consultar su saldo\")\n",
    "    print(f\"Su cuenta Tiene {saldo} pesos. Gracias por usar nuestros servicios, vuelva pronto\")\n",
    "else:\n",
    "    print(\"selecionó una opción no válida\")\n"
   ]
  }
 ],
 "metadata": {
  "kernelspec": {
   "display_name": "Python 3",
   "language": "python",
   "name": "python3"
  },
  "language_info": {
   "codemirror_mode": {
    "name": "ipython",
    "version": 3
   },
   "file_extension": ".py",
   "mimetype": "text/x-python",
   "name": "python",
   "nbconvert_exporter": "python",
   "pygments_lexer": "ipython3",
   "version": "3.9.0"
  },
  "orig_nbformat": 4
 },
 "nbformat": 4,
 "nbformat_minor": 2
}
