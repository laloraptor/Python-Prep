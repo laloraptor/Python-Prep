{
 "cells": [
  {
   "attachments": {},
   "cell_type": "markdown",
   "metadata": {},
   "source": [
    "Crea un programa en el que pidas un numero y regreses la raiz cuadrada del mismo e indicando al usuario si puso un valor que arrojaría un numero imaginario"
   ]
  },
  {
   "cell_type": "code",
   "execution_count": 3,
   "metadata": {},
   "outputs": [
    {
     "name": "stdout",
     "output_type": "stream",
     "text": [
      "este programa te regresará la raiz de un numero siempre y cuando sea mayor a 0, de lo contrario te pedirá que reingreses datos hasta cumplir la condicion\n",
      "Colocaste un numero incorrecto, por favor ingresa uno válido\n",
      "La raiz cuadrada de tu número es 5.477225575051661\n"
     ]
    }
   ],
   "source": [
    "print(\"este programa te regresará la raiz de un numero siempre y cuando sea mayor a 0, de lo contrario te pedirá que reingreses datos hasta cumplir la condicion\")\n",
    "import math\n",
    "numero=int(input(\"Por favor ingresa tu numero\"))\n",
    "while numero<=0:\n",
    "    print(\"Colocaste un numero incorrecto, por favor ingresa uno válido\")\n",
    "    numero=int(input(\"Coloca aqui el numero nuevo\"))\n",
    "raiz=math.sqrt(numero)\n",
    "print(f\"La raiz cuadrada de tu número es {raiz}\")\n"
   ]
  },
  {
   "attachments": {},
   "cell_type": "markdown",
   "metadata": {},
   "source": [
    "Muestra un mensaje \"hola mundo\" 10 veces usando while "
   ]
  },
  {
   "cell_type": "code",
   "execution_count": 5,
   "metadata": {},
   "outputs": [
    {
     "name": "stdout",
     "output_type": "stream",
     "text": [
      "Esta es la iteración 1 del bucle while\n",
      "Esta es la iteración 2 del bucle while\n",
      "Esta es la iteración 3 del bucle while\n",
      "Esta es la iteración 4 del bucle while\n",
      "Esta es la iteración 5 del bucle while\n",
      "Esta es la iteración 6 del bucle while\n",
      "Esta es la iteración 7 del bucle while\n",
      "Esta es la iteración 8 del bucle while\n",
      "Esta es la iteración 9 del bucle while\n",
      "Esta es la iteración 10 del bucle while\n"
     ]
    }
   ],
   "source": [
    "i=1\n",
    "while i<=10:\n",
    "    print(f\"Esta es la iteración {i} del bucle while\")\n",
    "    i+=1"
   ]
  },
  {
   "attachments": {},
   "cell_type": "markdown",
   "metadata": {},
   "source": [
    "Escribir un programa que pida al usuario ingresar un número entero positivo y luego imprima por pantalla todos los números impares desde 1 hasta ese número."
   ]
  },
  {
   "cell_type": "code",
   "execution_count": 7,
   "metadata": {},
   "outputs": [
    {
     "name": "stdout",
     "output_type": "stream",
     "text": [
      "1\n",
      "3\n",
      "5\n",
      "7\n",
      "9\n",
      "11\n",
      "13\n",
      "15\n",
      "17\n",
      "19\n"
     ]
    }
   ],
   "source": [
    "numfin=int(input(\"Colaca aquí un numero entero positivo para mostrarte todos los números impares hasta ese numero\"))\n",
    "inicio=0\n",
    "while numfin<0:\n",
    "    print(\"colocaste mal el numero, por favor ingresa un número mayor a 0 para continuar\")\n",
    "    numfin=int(input(\"Coloca aquí tu nuevo numero por favor, debe ser mayor a 0\"))\n",
    "while inicio<numfin:\n",
    "    inicio+=1\n",
    "    if inicio%2!=0:\n",
    "        print(str(inicio))\n",
    "    else:\n",
    "        pass\n",
    "    "
   ]
  },
  {
   "attachments": {},
   "cell_type": "markdown",
   "metadata": {},
   "source": [
    "Escribir un programa que pida al usuario ingresar una cadena de caracteres y luego imprima por pantalla cuántas vocales tiene esa cadena."
   ]
  },
  {
   "cell_type": "code",
   "execution_count": 22,
   "metadata": {},
   "outputs": [
    {
     "name": "stdout",
     "output_type": "stream",
     "text": [
      "la palabra que ingresaste fue armatostepreñado y tiene 7 vocales\n"
     ]
    }
   ],
   "source": [
    "vocales=\"aeiouAEIOU\"\n",
    "posin=0\n",
    "contador=0\n",
    "palabra=input(\"ingresa una palabra para decirte cuantas vocales tiene\")\n",
    "while posin<len(palabra):\n",
    "    if palabra[posin] in vocales:\n",
    "        contador+=1\n",
    "    posin+=1\n",
    "print(f\"la palabra que ingresaste fue {palabra} y tiene {contador} vocales\")"
   ]
  },
  {
   "attachments": {},
   "cell_type": "markdown",
   "metadata": {},
   "source": [
    "Escribir un programa que calcule el factorial de un número entero positivo utilizando un ciclo while. El usuario debe ingresar el número del cual se quiere calcular el factorial."
   ]
  },
  {
   "cell_type": "code",
   "execution_count": 27,
   "metadata": {},
   "outputs": [
    {
     "name": "stdout",
     "output_type": "stream",
     "text": [
      "el factorial de 5 es 120\n"
     ]
    }
   ],
   "source": [
    "numero=int(input(\"introduce aquí el número del que deseas encontrar su factorial\"))\n",
    "factorial=1\n",
    "i=1\n",
    "while factorial<=numero:\n",
    "    i*=factorial\n",
    "    factorial+=1\n",
    "print(f\"el factorial de {numero} es {i}\")"
   ]
  },
  {
   "attachments": {},
   "cell_type": "markdown",
   "metadata": {},
   "source": [
    "Escribir un programa que pida al usuario ingresar un número entero positivo y luego imprima por pantalla todos los números pares desde 2 hasta ese número."
   ]
  },
  {
   "cell_type": "code",
   "execution_count": 28,
   "metadata": {},
   "outputs": [
    {
     "name": "stdout",
     "output_type": "stream",
     "text": [
      "2\n",
      "4\n",
      "6\n"
     ]
    }
   ],
   "source": [
    "numero=int(input(\"Ingresa un numero entero positivo para poder regresarte los numeros pares que existen hasta él\"))\n",
    "i=1\n",
    "while numero<2:\n",
    "    print(\"El numero que ingresaste es menor a 2\")\n",
    "    numero=int(input(\"Ingresa por favor un número correcto\"))\n",
    "while i<numero:\n",
    "    if i%2==0:\n",
    "        print(str(i))\n",
    "    i+=1\n",
    "\n"
   ]
  },
  {
   "attachments": {},
   "cell_type": "markdown",
   "metadata": {},
   "source": [
    "Escribir un programa que pida al usuario ingresar un número entero positivo y luego imprima por pantalla si ese número es primo o no. Puedes utilizar un ciclo while para iterar sobre los posibles divisores del número y comprobar si es primo o no."
   ]
  },
  {
   "cell_type": "code",
   "execution_count": 53,
   "metadata": {},
   "outputs": [
    {
     "name": "stdout",
     "output_type": "stream",
     "text": [
      "El número 6 no es primo\n"
     ]
    }
   ],
   "source": [
    "primo=int(input(\"Ingresa un número para comprobar si el número es primo o no\"))\n",
    "i=1\n",
    "contador=0\n",
    "while i<primo:\n",
    "    if primo%i==0:\n",
    "        contador+=1\n",
    "    i+=1\n",
    "if contador<2:\n",
    "    print(f\"el número {primo} es primo\")\n",
    "else:\n",
    "    print(f\"El número {primo} no es primo\")"
   ]
  }
 ],
 "metadata": {
  "kernelspec": {
   "display_name": "Python 3",
   "language": "python",
   "name": "python3"
  },
  "language_info": {
   "codemirror_mode": {
    "name": "ipython",
    "version": 3
   },
   "file_extension": ".py",
   "mimetype": "text/x-python",
   "name": "python",
   "nbconvert_exporter": "python",
   "pygments_lexer": "ipython3",
   "version": "3.9.0"
  },
  "orig_nbformat": 4
 },
 "nbformat": 4,
 "nbformat_minor": 2
}
