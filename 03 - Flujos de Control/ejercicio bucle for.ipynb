{
 "cells": [
  {
   "attachments": {},
   "cell_type": "markdown",
   "metadata": {},
   "source": [
    "Usando un ciclo for imprime \"hola mundo\" indicando rl numero de iteracion que le corresponde"
   ]
  },
  {
   "cell_type": "code",
   "execution_count": 1,
   "metadata": {},
   "outputs": [
    {
     "name": "stdout",
     "output_type": "stream",
     "text": [
      "hello word  1\n",
      "hello word  2\n",
      "hello word  3\n",
      "hello word  4\n",
      "hello word  5\n",
      "hello word  6\n",
      "hello word  7\n",
      "hello word  8\n",
      "hello word  9\n"
     ]
    }
   ],
   "source": [
    "for i in range (1,10):\n",
    "    print(f\"hello word  {i}\")"
   ]
  },
  {
   "attachments": {},
   "cell_type": "markdown",
   "metadata": {},
   "source": [
    "Usando un ciclo for imprime un \"Este es un hola mundo dirigido a\" seguido del nombre de 5 personas"
   ]
  },
  {
   "cell_type": "code",
   "execution_count": 4,
   "metadata": {},
   "outputs": [
    {
     "name": "stdout",
     "output_type": "stream",
     "text": [
      "Este es un 'Hola mundo' dirigido a laura\n",
      "Este es un 'Hola mundo' dirigido a mercedes\n",
      "Este es un 'Hola mundo' dirigido a José\n",
      "Este es un 'Hola mundo' dirigido a Matías\n",
      "Este es un 'Hola mundo' dirigido a Mara\n"
     ]
    }
   ],
   "source": [
    "personas= [\"laura\", \"mercedes\", \"José\", \"Matías\", \"Mara\"]\n",
    "for i in personas:\n",
    "    print(f\"Este es un 'Hola mundo' dirigido a {i}\")"
   ]
  },
  {
   "attachments": {},
   "cell_type": "markdown",
   "metadata": {},
   "source": [
    "Usando un ciclo for y un diccionario, Genera 5 oraciones donde se use tanto la clave como el valor de éste último. Hazlo primero sin el método .items (), luego hazlo usándolo"
   ]
  },
  {
   "cell_type": "code",
   "execution_count": 11,
   "metadata": {},
   "outputs": [
    {
     "name": "stdout",
     "output_type": "stream",
     "text": [
      "La esperanza de vida de X es de 100 \n",
      "La esperanza de vida de Ma es de 130 \n",
      "La esperanza de vida de Mar es de 85 \n",
      "La esperanza de vida de Ve es de 59 \n",
      "La esperanza de vida de Gab es de 70 \n"
     ]
    }
   ],
   "source": [
    "morta={\"X\":100, \"Ma\":130, \"Mar\":85, \"Ve\":59, \"Gab\":70}\n",
    "for nombres in morta:\n",
    "    print(f\"La esperanza de vida de {nombres} es de {morta[nombres]} \")"
   ]
  },
  {
   "attachments": {},
   "cell_type": "markdown",
   "metadata": {},
   "source": [
    "Repite el ejercicio anterior usando el método .items()"
   ]
  },
  {
   "cell_type": "code",
   "execution_count": 10,
   "metadata": {},
   "outputs": [
    {
     "name": "stdout",
     "output_type": "stream",
     "text": [
      "La esperanza de vida de X es de 100 años\n",
      "La esperanza de vida de Ma es de 130 años\n",
      "La esperanza de vida de Mar es de 85 años\n",
      "La esperanza de vida de Ve es de 59 años\n",
      "La esperanza de vida de Gab es de 70 años\n"
     ]
    }
   ],
   "source": [
    "morta={\"X\":100, \"Ma\":130, \"Mar\":85, \"Ve\":59, \"Gab\":70}\n",
    "for nombres,edades  in morta.items():\n",
    "    print(f\"La esperanza de vida de {nombres} es de {edades} años\")\n"
   ]
  },
  {
   "attachments": {},
   "cell_type": "markdown",
   "metadata": {},
   "source": [
    "Corre un ciclo for para una cadena"
   ]
  },
  {
   "cell_type": "code",
   "execution_count": 27,
   "metadata": {},
   "outputs": [
    {
     "name": "stdout",
     "output_type": "stream",
     "text": [
      "E\n",
      "d\n",
      "u\n",
      "a\n",
      "r\n",
      "d\n",
      "o\n"
     ]
    }
   ],
   "source": [
    "cadena=\"Eduardo\"\n",
    "for i in cadena:\n",
    "    print(i)\n",
    "    \n",
    "    "
   ]
  },
  {
   "attachments": {},
   "cell_type": "markdown",
   "metadata": {},
   "source": [
    "Corre un ciclo for para una cadena, pero sin que haya un salto de línea entre la salida "
   ]
  },
  {
   "cell_type": "code",
   "execution_count": 27,
   "metadata": {},
   "outputs": [
    {
     "name": "stdout",
     "output_type": "stream",
     "text": [
      "E d u a r d o "
     ]
    }
   ],
   "source": [
    "cadena=\"Eduardo\"\n",
    "for i in cadena:\n",
    "    print(i, end=\" \")"
   ]
  },
  {
   "attachments": {},
   "cell_type": "markdown",
   "metadata": {},
   "source": [
    "Usa el ciclo for con cadena para contar las vocales de una palabra que el usuario ingrese"
   ]
  },
  {
   "cell_type": "code",
   "execution_count": 19,
   "metadata": {},
   "outputs": [
    {
     "name": "stdout",
     "output_type": "stream",
     "text": [
      "Tu palabra fue murcielago tonto y contiene 7 vocales\n"
     ]
    }
   ],
   "source": [
    "cadena=input(\"ingresa la palabra que quieres checar\")\n",
    "contador=0\n",
    "for i in cadena:\n",
    "    if i in \"aeiouAEIOU\":\n",
    "        contador+=1\n",
    "print(f\"Tu palabra fue {cadena} y contiene {contador} vocales\")\n",
    "    "
   ]
  },
  {
   "attachments": {},
   "cell_type": "markdown",
   "metadata": {},
   "source": [
    "Almacena"
   ]
  },
  {
   "cell_type": "code",
   "execution_count": 35,
   "metadata": {},
   "outputs": [
    {
     "name": "stdout",
     "output_type": "stream",
     "text": [
      "['c', 'a', 'd', 'e', 'r', 'e', 'i', 't', 'a']\n",
      "['c', 'a', 'd', 'e', 'r', 'e', 'i', 't', 'a']\n"
     ]
    }
   ],
   "source": [
    "cadena=input(\"coloca aquí la cadena que quieres pasar a elementos por separado\")\n",
    "lista=[]\n",
    "listafun=[]\n",
    "for i in cadena:\n",
    "    lista+=(i)\n",
    "    listafun.append(i)\n",
    "print(lista)\n",
    "print(listafun)"
   ]
  },
  {
   "attachments": {},
   "cell_type": "markdown",
   "metadata": {},
   "source": [
    "Programa un buque que cuente atrás del 5 al 1 y al final imprimir un mensaje que diga \"despegue\""
   ]
  },
  {
   "cell_type": "code",
   "execution_count": 38,
   "metadata": {},
   "outputs": [
    {
     "name": "stdout",
     "output_type": "stream",
     "text": [
      "5\n",
      "4\n",
      "3\n",
      "2\n",
      "1\n",
      "0\n",
      "Despegue\n"
     ]
    }
   ],
   "source": [
    "des=[5,4,3,2,1,0]\n",
    "for cuenta in des:\n",
    "    print(cuenta)\n",
    "print(\"Despegue\")"
   ]
  },
  {
   "cell_type": "code",
   "execution_count": 40,
   "metadata": {},
   "outputs": [
    {
     "name": "stdout",
     "output_type": "stream",
     "text": [
      "5\n",
      "4\n",
      "3\n",
      "2\n",
      "1\n",
      "Despegue\n"
     ]
    }
   ],
   "source": [
    "##El otro modo de hacerlo, con range, es indicar el orden en el que el rango va a avanzar\n",
    "for cuenta in range (5,0,-1):\n",
    "    print(cuenta)\n",
    "print(\"Despegue\")"
   ]
  },
  {
   "attachments": {},
   "cell_type": "markdown",
   "metadata": {},
   "source": [
    "Mostrar la tabla de multiplicar del numero 7\n"
   ]
  },
  {
   "cell_type": "code",
   "execution_count": 44,
   "metadata": {},
   "outputs": [
    {
     "name": "stdout",
     "output_type": "stream",
     "text": [
      "7\n",
      "14\n",
      "21\n",
      "28\n",
      "35\n",
      "42\n",
      "49\n",
      "56\n",
      "63\n",
      "70\n"
     ]
    }
   ],
   "source": [
    "tab7=7\n",
    "for n in range (1,11):\n",
    "    tabres=tab7*n\n",
    "    print(tabres)"
   ]
  },
  {
   "attachments": {},
   "cell_type": "markdown",
   "metadata": {},
   "source": [
    "Imprimir los números pares del 1 al 20."
   ]
  },
  {
   "cell_type": "code",
   "execution_count": 45,
   "metadata": {},
   "outputs": [
    {
     "name": "stdout",
     "output_type": "stream",
     "text": [
      "2\n",
      "4\n",
      "6\n",
      "8\n",
      "10\n",
      "12\n",
      "14\n",
      "16\n",
      "18\n",
      "20\n"
     ]
    }
   ],
   "source": [
    "for n in range (1,21):\n",
    "    if n%2==0:\n",
    "        print(n)\n",
    "        "
   ]
  },
  {
   "attachments": {},
   "cell_type": "markdown",
   "metadata": {},
   "source": [
    "Calcular la suma de los primeros 100 números enteros."
   ]
  },
  {
   "cell_type": "code",
   "execution_count": 46,
   "metadata": {},
   "outputs": [
    {
     "name": "stdout",
     "output_type": "stream",
     "text": [
      "5050\n"
     ]
    }
   ],
   "source": [
    "contador=0\n",
    "for n in range (1,101):\n",
    "    contador+=n\n",
    "print(contador)"
   ]
  },
  {
   "attachments": {},
   "cell_type": "markdown",
   "metadata": {},
   "source": [
    "Imprimir los elementos de una lista."
   ]
  },
  {
   "cell_type": "code",
   "execution_count": 47,
   "metadata": {},
   "outputs": [
    {
     "name": "stdout",
     "output_type": "stream",
     "text": [
      "caro\n",
      "pam\n",
      "Nicole\n",
      "Rox\n",
      "Sandrat\n",
      "ximeg\n"
     ]
    }
   ],
   "source": [
    "lista=[\"caro\", \"pam\", \"Nicole\",\"Rox\", \"Sandrat\", \"ximeg\"]\n",
    "for n in lista:\n",
    "    print(n)"
   ]
  },
  {
   "attachments": {},
   "cell_type": "markdown",
   "metadata": {},
   "source": [
    "Calcular la media de los elementos de una lista.\n"
   ]
  },
  {
   "cell_type": "code",
   "execution_count": 48,
   "metadata": {},
   "outputs": [
    {
     "name": "stdout",
     "output_type": "stream",
     "text": [
      "6.903225806451613\n"
     ]
    }
   ],
   "source": [
    "lista=[1,4,6,3,6,7,8,3,5,6,7,8,4,5,6,3,5,6,7,8,6,4,3,5,6,7,8,9,7,6,45]\n",
    "suma=0\n",
    "for n in lista:\n",
    "    suma+=n\n",
    "prom=suma/len(lista)\n",
    "print(prom)"
   ]
  },
  {
   "attachments": {},
   "cell_type": "markdown",
   "metadata": {},
   "source": [
    "Imprimir los elementos de una lista en orden inverso.\n"
   ]
  },
  {
   "cell_type": "code",
   "execution_count": 86,
   "metadata": {},
   "outputs": [
    {
     "name": "stdout",
     "output_type": "stream",
     "text": [
      "[5, 4, 3, 2, 1, 'cachos', 'los', 'aja', 'para', 'dos', 'pepa']\n"
     ]
    }
   ],
   "source": [
    "lista=[\"pepa\", \"dos\", \"para\",\"aja\",\"los\",\"cachos\",1 ,2,3,4,5]\n",
    "listarev=[]\n",
    "contador=0\n",
    "for n in lista:\n",
    "    listarev.insert(0,n)\n",
    "print(listarev)\n"
   ]
  },
  {
   "attachments": {},
   "cell_type": "markdown",
   "metadata": {},
   "source": [
    "Imprime los primeros 10 números de la serie de Fibonacci usando un ciclo for."
   ]
  },
  {
   "cell_type": "code",
   "execution_count": null,
   "metadata": {},
   "outputs": [],
   "source": []
  },
  {
   "attachments": {},
   "cell_type": "markdown",
   "metadata": {},
   "source": [
    "Imprime las tablas de multiplicar del 1 al 10 usando dos ciclos for.\n"
   ]
  },
  {
   "cell_type": "code",
   "execution_count": 119,
   "metadata": {},
   "outputs": [
    {
     "name": "stdout",
     "output_type": "stream",
     "text": [
      "1 x 1 = 1 \n",
      "1 x 2 = 2 \n",
      "1 x 3 = 3 \n",
      "1 x 4 = 4 \n",
      "1 x 5 = 5 \n",
      "1 x 6 = 6 \n",
      "1 x 7 = 7 \n",
      "1 x 8 = 8 \n",
      "1 x 9 = 9 \n",
      "1 x 10 = 10 \n",
      "2 x 1 = 2 \n",
      "2 x 2 = 4 \n",
      "2 x 3 = 6 \n",
      "2 x 4 = 8 \n",
      "2 x 5 = 10 \n",
      "2 x 6 = 12 \n",
      "2 x 7 = 14 \n",
      "2 x 8 = 16 \n",
      "2 x 9 = 18 \n",
      "2 x 10 = 20 \n",
      "3 x 1 = 3 \n",
      "3 x 2 = 6 \n",
      "3 x 3 = 9 \n",
      "3 x 4 = 12 \n",
      "3 x 5 = 15 \n",
      "3 x 6 = 18 \n",
      "3 x 7 = 21 \n",
      "3 x 8 = 24 \n",
      "3 x 9 = 27 \n",
      "3 x 10 = 30 \n",
      "4 x 1 = 4 \n",
      "4 x 2 = 8 \n",
      "4 x 3 = 12 \n",
      "4 x 4 = 16 \n",
      "4 x 5 = 20 \n",
      "4 x 6 = 24 \n",
      "4 x 7 = 28 \n",
      "4 x 8 = 32 \n",
      "4 x 9 = 36 \n",
      "4 x 10 = 40 \n",
      "5 x 1 = 5 \n",
      "5 x 2 = 10 \n",
      "5 x 3 = 15 \n",
      "5 x 4 = 20 \n",
      "5 x 5 = 25 \n",
      "5 x 6 = 30 \n",
      "5 x 7 = 35 \n",
      "5 x 8 = 40 \n",
      "5 x 9 = 45 \n",
      "5 x 10 = 50 \n",
      "6 x 1 = 6 \n",
      "6 x 2 = 12 \n",
      "6 x 3 = 18 \n",
      "6 x 4 = 24 \n",
      "6 x 5 = 30 \n",
      "6 x 6 = 36 \n",
      "6 x 7 = 42 \n",
      "6 x 8 = 48 \n",
      "6 x 9 = 54 \n",
      "6 x 10 = 60 \n",
      "7 x 1 = 7 \n",
      "7 x 2 = 14 \n",
      "7 x 3 = 21 \n",
      "7 x 4 = 28 \n",
      "7 x 5 = 35 \n",
      "7 x 6 = 42 \n",
      "7 x 7 = 49 \n",
      "7 x 8 = 56 \n",
      "7 x 9 = 63 \n",
      "7 x 10 = 70 \n",
      "8 x 1 = 8 \n",
      "8 x 2 = 16 \n",
      "8 x 3 = 24 \n",
      "8 x 4 = 32 \n",
      "8 x 5 = 40 \n",
      "8 x 6 = 48 \n",
      "8 x 7 = 56 \n",
      "8 x 8 = 64 \n",
      "8 x 9 = 72 \n",
      "8 x 10 = 80 \n",
      "9 x 1 = 9 \n",
      "9 x 2 = 18 \n",
      "9 x 3 = 27 \n",
      "9 x 4 = 36 \n",
      "9 x 5 = 45 \n",
      "9 x 6 = 54 \n",
      "9 x 7 = 63 \n",
      "9 x 8 = 72 \n",
      "9 x 9 = 81 \n",
      "9 x 10 = 90 \n",
      "10 x 1 = 10 \n",
      "10 x 2 = 20 \n",
      "10 x 3 = 30 \n",
      "10 x 4 = 40 \n",
      "10 x 5 = 50 \n",
      "10 x 6 = 60 \n",
      "10 x 7 = 70 \n",
      "10 x 8 = 80 \n",
      "10 x 9 = 90 \n",
      "10 x 10 = 100 \n"
     ]
    }
   ],
   "source": [
    "for n1 in range (1,11):\n",
    "    for n2 in range (1,11):\n",
    "        print (f\"{n1} x {n2} = {n1*n2} \")"
   ]
  },
  {
   "attachments": {},
   "cell_type": "markdown",
   "metadata": {},
   "source": [
    "introduce una lista de 5 elementos por medio de teclado, utilizando un ciclo for"
   ]
  },
  {
   "cell_type": "code",
   "execution_count": 127,
   "metadata": {},
   "outputs": [
    {
     "name": "stdout",
     "output_type": "stream",
     "text": [
      "[1, 2, 3, 4, 5]\n"
     ]
    }
   ],
   "source": [
    "lista=[]\n",
    "for n in range (5):\n",
    "    elemento=int(input(f\"Introduce el elemento {n+1} de tu lista\"))\n",
    "    lista.append(elemento)\n",
    "print(lista)"
   ]
  },
  {
   "attachments": {},
   "cell_type": "markdown",
   "metadata": {},
   "source": [
    "Realizar la carga de valores enteros por teclado, almacenarlos en una lista. Finalizar la carga de enteros al ingresar la palabra \"fin\". Mostrar finalmente la lista y el tamaño de la lista."
   ]
  },
  {
   "cell_type": "code",
   "execution_count": 2,
   "metadata": {},
   "outputs": [
    {
     "name": "stdout",
     "output_type": "stream",
     "text": [
      "5\n",
      "['s', 'd', 'f', '4', '5']\n"
     ]
    }
   ],
   "source": [
    "lista=[]\n",
    "valor=input(\"introduce aquí el valor que quieres añadir. Para terminar ingresa 'fin'\")\n",
    "contador=0\n",
    "while valor!=\"fin\":\n",
    "    lista.append(valor)\n",
    "    contador+=1\n",
    "    valor=input(f\"introduce aquí el valor No. {contador+1} que quieres añadir. Recuerda que si quieres terminar debes ingresar la palabra 'fin'\")\n",
    "print (len(lista))\n",
    "print(lista)"
   ]
  },
  {
   "attachments": {},
   "cell_type": "markdown",
   "metadata": {},
   "source": [
    "Crea una lista de números y usa un ciclo for para calcular su suma."
   ]
  },
  {
   "cell_type": "code",
   "execution_count": 11,
   "metadata": {},
   "outputs": [
    {
     "name": "stdout",
     "output_type": "stream",
     "text": [
      "Agregaste 5 valores. Estos fueron: ['1', '2', '3', '4', '5']. La suma de ellos es 55\n"
     ]
    }
   ],
   "source": [
    "from operator import length_hint\n",
    "lista=[]\n",
    "valor=input(\"introduce aquí el valor que quieres añadir. Para terminar ingresa 'fin'\")\n",
    "contador=0\n",
    "while valor!=\"fin\":\n",
    "    lista.append(valor)\n",
    "    contador+=1\n",
    "    valor=input(f\"introduce aquí el valor No. {contador+1} que quieres añadir. Recuerda que si quieres terminar debes ingresar la palabra 'fin'\")\n",
    "for n in lista:\n",
    "    n+=n\n",
    "print(f\"Agregaste {contador} valores. Estos fueron: {lista}. La suma de ellos es {n}\")"
   ]
  },
  {
   "attachments": {},
   "cell_type": "markdown",
   "metadata": {},
   "source": [
    "pide al usuario que ingrese varios numeros en con teclado y almacenalos en una list. Luego dile que numeros guardo, y cuantos fueron. Finalmente usa un ciclo for para imprimir solo los números mayores que 5."
   ]
  },
  {
   "cell_type": "code",
   "execution_count": 26,
   "metadata": {},
   "outputs": [
    {
     "name": "stdout",
     "output_type": "stream",
     "text": [
      "añadiste 9 valores. Estos fueron ['1', '2', '3', '34', '4', '3', '5', '6', '677']\n",
      "34\n",
      "6\n",
      "677\n"
     ]
    }
   ],
   "source": [
    "lista=[]\n",
    "i=0\n",
    "contador=0\n",
    "valor=input(f\"Ingresa aqui el valor {contador+1} que deseas almacenar\")\n",
    "while valor!=\"fin\":\n",
    "    contador+=1\n",
    "    lista.append(valor)\n",
    "    valor=input(f\"Ingresa aqui el valor {contador+1} que deseas añadir a la lista\")\n",
    "print(f\"añadiste {contador} valores. Estos fueron {lista}\")\n",
    "for i in lista:\n",
    "    if int(i)>5: ###acá esto es asi porque antes cada i (o sea cada uno de los elementos de la lista) no era int sino un string\n",
    "        print(i)\n"
   ]
  },
  {
   "attachments": {},
   "cell_type": "markdown",
   "metadata": {},
   "source": [
    "Crea una lista con los números del 1 al 10 y utiliza un ciclo \"for\" para imprimir el cuadrado de cada número en la lista."
   ]
  },
  {
   "cell_type": "code",
   "execution_count": 28,
   "metadata": {},
   "outputs": [
    {
     "name": "stdout",
     "output_type": "stream",
     "text": [
      " el cuadrado de 1 es: 1\n",
      " el cuadrado de 2 es: 4\n",
      " el cuadrado de 3 es: 9\n",
      " el cuadrado de 4 es: 16\n",
      " el cuadrado de 5 es: 25\n",
      " el cuadrado de 6 es: 36\n",
      " el cuadrado de 7 es: 49\n",
      " el cuadrado de 8 es: 64\n",
      " el cuadrado de 9 es: 81\n",
      " el cuadrado de 10 es: 100\n"
     ]
    }
   ],
   "source": [
    "lista=[1,2,3,4,5,6,7,8,9,10]\n",
    "for i in lista:\n",
    "    print(f\" el cuadrado de {i} es: {i**2}\")"
   ]
  }
 ],
 "metadata": {
  "kernelspec": {
   "display_name": "Python 3",
   "language": "python",
   "name": "python3"
  },
  "language_info": {
   "codemirror_mode": {
    "name": "ipython",
    "version": 3
   },
   "file_extension": ".py",
   "mimetype": "text/x-python",
   "name": "python",
   "nbconvert_exporter": "python",
   "pygments_lexer": "ipython3",
   "version": "3.9.0"
  },
  "orig_nbformat": 4
 },
 "nbformat": 4,
 "nbformat_minor": 2
}
