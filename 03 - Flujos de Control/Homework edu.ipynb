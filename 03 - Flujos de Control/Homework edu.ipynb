{
 "cells": [
  {
   "attachments": {},
   "cell_type": "markdown",
   "metadata": {},
   "source": [
    "## Flujos de Control\n",
    "\n",
    "1) Crear una variable que contenga un elemento del conjunto de números enteros y luego imprimir por pantalla si es mayor o menor a cero"
   ]
  },
  {
   "cell_type": "code",
   "execution_count": 25,
   "metadata": {},
   "outputs": [
    {
     "name": "stdout",
     "output_type": "stream",
     "text": [
      "el número -20 es menor a 0\n"
     ]
    }
   ],
   "source": [
    "numero=int(input(\"Introduce un número\"))\n",
    "if numero>0:\n",
    "    print(f\"el número {numero} es mayor a 0\")\n",
    "elif numero<0:\n",
    "    print(f\"el número {numero} es menor a 0\")"
   ]
  },
  {
   "attachments": {},
   "cell_type": "markdown",
   "metadata": {},
   "source": [
    "2) Crear dos variables y un condicional que informe si son del mismo tipo de dato"
   ]
  },
  {
   "cell_type": "code",
   "execution_count": 30,
   "metadata": {},
   "outputs": [
    {
     "name": "stdout",
     "output_type": "stream",
     "text": [
      "las variables contienen distintos tipos de datos: X contiene 100 y es de tipo <class 'int'>; mientras  contiene veinte Y es de tipo <class 'str'>\n"
     ]
    }
   ],
   "source": [
    "x=100\n",
    "y=\"veinte\"\n",
    "if type(x)==type(y):\n",
    "    print (f\"las variables contienen el mismo tipo de datos que es: {type(x)} \")\n",
    "elif type(x)!=type(y):\n",
    "    print (f\"las variables contienen distintos tipos de datos: X contiene {x} y es de tipo {type(x)}; mientras Y contiene {y} Y es de tipo {type(y)}\")"
   ]
  },
  {
   "attachments": {},
   "cell_type": "markdown",
   "metadata": {},
   "source": [
    "3) Para los valores enteros del 1 al 20, imprimir por pantalla si es par o impar"
   ]
  },
  {
   "cell_type": "code",
   "execution_count": 32,
   "metadata": {},
   "outputs": [
    {
     "name": "stdout",
     "output_type": "stream",
     "text": [
      "1 es impar\n",
      "2 es par\n",
      "3 es impar\n",
      "4 es par\n",
      "5 es impar\n",
      "6 es par\n",
      "7 es impar\n",
      "8 es par\n",
      "9 es impar\n",
      "10 es par\n",
      "11 es impar\n",
      "12 es par\n",
      "13 es impar\n",
      "14 es par\n",
      "15 es impar\n",
      "16 es par\n",
      "17 es impar\n",
      "18 es par\n",
      "19 es impar\n",
      "20 es par\n"
     ]
    }
   ],
   "source": [
    "for n in range (0,21):\n",
    "    if n==0:\n",
    "        continue\n",
    "    if n%2==0:\n",
    "        print(f\"{n} es par\")\n",
    "    elif n%2!=0:\n",
    "        print(f\"{n} es impar\")"
   ]
  },
  {
   "attachments": {},
   "cell_type": "markdown",
   "metadata": {},
   "source": [
    "4) En un ciclo for mostrar para los valores entre 0 y 5 el resultado de elevarlo a la potencia igual a 3\n"
   ]
  },
  {
   "cell_type": "code",
   "execution_count": 34,
   "metadata": {},
   "outputs": [
    {
     "name": "stdout",
     "output_type": "stream",
     "text": [
      "El resultado de elevar 1 a la tercera potencia es: 1\n",
      "El resultado de elevar 2 a la tercera potencia es: 8\n",
      "El resultado de elevar 3 a la tercera potencia es: 27\n",
      "El resultado de elevar 4 a la tercera potencia es: 64\n",
      "El resultado de elevar 5 a la tercera potencia es: 125\n"
     ]
    }
   ],
   "source": [
    "for n in range (1,6):\n",
    "    print (f\"El resultado de elevar {n} a la tercera potencia es: {n**3}\")"
   ]
  },
  {
   "attachments": {},
   "cell_type": "markdown",
   "metadata": {},
   "source": [
    "5) Crear una variable que contenga un número entero y realizar un ciclo for la misma cantidad de ciclos\n"
   ]
  },
  {
   "cell_type": "code",
   "execution_count": 42,
   "metadata": {},
   "outputs": [
    {
     "name": "stdout",
     "output_type": "stream",
     "text": [
      "Este es el ciclo número 1, de un total de 5 \n",
      "Este es el ciclo número 2, de un total de 5 \n",
      "Este es el ciclo número 3, de un total de 5 \n",
      "Este es el ciclo número 4, de un total de 5 \n",
      "Este es el ciclo número 5, de un total de 5 \n"
     ]
    }
   ],
   "source": [
    "numero=int(input(\"Introduce un número\"))\n",
    "for n in range(1,numero+1):\n",
    "    print(f\"Este es el ciclo número {n}, de un total de {numero} \")"
   ]
  },
  {
   "cell_type": "code",
   "execution_count": 3,
   "metadata": {},
   "outputs": [],
   "source": [
    "##También puedo dejarlo solo con el pass para que no imprima nada\n",
    "n=6\n",
    "for N in range (0,n+1):\n",
    "    pass"
   ]
  },
  {
   "attachments": {},
   "cell_type": "markdown",
   "metadata": {},
   "source": [
    "6) Utilizar un ciclo while para realizar el factorial de un número guardado en una variable, sólo si la variable contiene un número entero mayor a 0\n"
   ]
  },
  {
   "cell_type": "code",
   "execution_count": 59,
   "metadata": {},
   "outputs": [
    {
     "name": "stdout",
     "output_type": "stream",
     "text": [
      "El factorial de 3 es 6\n"
     ]
    }
   ],
   "source": [
    "numero=int(input(\"Introduce un número\"))\n",
    "inicio=1\n",
    "while numero<=0:\n",
    "    numero=int(input(f\"Introduciste {numero}, y es menor a 0. Por favor corrige e introduce un número mayor a 0\"))\n",
    "factorial=1\n",
    "while factorial<=numero:\n",
    "    inicio*=factorial\n",
    "    #inicio=inicio*factorial    a eso equivale lo de arriba\n",
    "    factorial+=1\n",
    "print(f\"El factorial de {numero} es {inicio}\")"
   ]
  },
  {
   "attachments": {},
   "cell_type": "markdown",
   "metadata": {},
   "source": [
    "7) Crear un ciclo for dentro de un ciclo while\n"
   ]
  },
  {
   "cell_type": "code",
   "execution_count": 4,
   "metadata": {},
   "outputs": [
    {
     "name": "stdout",
     "output_type": "stream",
     "text": [
      "Este es el ciclo while en la iteración 1\n",
      "Este es el ciclo for en la iteración 1\n",
      "Este es el ciclo while en la iteración 2\n",
      "Este es el ciclo for en la iteración 1\n",
      "Este es el ciclo for en la iteración 2\n",
      "Este es el ciclo while en la iteración 3\n",
      "Este es el ciclo for en la iteración 1\n",
      "Este es el ciclo for en la iteración 2\n",
      "Este es el ciclo for en la iteración 3\n",
      "Este es el ciclo while en la iteración 4\n",
      "Este es el ciclo for en la iteración 1\n",
      "Este es el ciclo for en la iteración 2\n",
      "Este es el ciclo for en la iteración 3\n",
      "Este es el ciclo for en la iteración 4\n",
      "Este es el ciclo while en la iteración 5\n",
      "Este es el ciclo for en la iteración 1\n",
      "Este es el ciclo for en la iteración 2\n",
      "Este es el ciclo for en la iteración 3\n",
      "Este es el ciclo for en la iteración 4\n",
      "Este es el ciclo for en la iteración 5\n"
     ]
    }
   ],
   "source": [
    "n=5\n",
    "a=0\n",
    "while a<n:\n",
    "    a+=1\n",
    "    print (f\"Este es el ciclo while en la iteración {a}\")\n",
    "    for i in range (1,a+1):\n",
    "        print(f\"Este es el ciclo for en la iteración {i}\")\n"
   ]
  },
  {
   "attachments": {},
   "cell_type": "markdown",
   "metadata": {},
   "source": [
    "8) Crear un ciclo while dentro de un ciclo for\n"
   ]
  },
  {
   "cell_type": "code",
   "execution_count": 10,
   "metadata": {},
   "outputs": [
    {
     "name": "stdout",
     "output_type": "stream",
     "text": [
      "Este es un for  en la iteración  1\n",
      "Este es un ciclo while en la iteración  1\n",
      "Este es un ciclo while en la iteración  2\n",
      "Este es un ciclo while en la iteración  3\n",
      "Este es un ciclo while en la iteración  4\n",
      "Este es un ciclo while en la iteración  5\n",
      "Este es un ciclo while en la iteración  6\n",
      "Este es un for  en la iteración  2\n",
      "Este es un ciclo while en la iteración  2\n",
      "Este es un ciclo while en la iteración  3\n",
      "Este es un ciclo while en la iteración  4\n",
      "Este es un ciclo while en la iteración  5\n",
      "Este es un ciclo while en la iteración  6\n",
      "Este es un for  en la iteración  3\n",
      "Este es un ciclo while en la iteración  3\n",
      "Este es un ciclo while en la iteración  4\n",
      "Este es un ciclo while en la iteración  5\n",
      "Este es un ciclo while en la iteración  6\n",
      "Este es un for  en la iteración  4\n",
      "Este es un ciclo while en la iteración  4\n",
      "Este es un ciclo while en la iteración  5\n",
      "Este es un ciclo while en la iteración  6\n",
      "Este es un for  en la iteración  5\n",
      "Este es un ciclo while en la iteración  5\n",
      "Este es un ciclo while en la iteración  6\n"
     ]
    }
   ],
   "source": [
    "for n in range (1,6):\n",
    "    print(\"Este es un for  en la iteración \", str(n))\n",
    "    while(n<=6):\n",
    "        print(\"Este es un ciclo while en la iteración \", str(n))\n",
    "        n=n+1       "
   ]
  },
  {
   "attachments": {},
   "cell_type": "markdown",
   "metadata": {},
   "source": [
    "9) Imprimir los números primos existentes entre 0 y 30\n"
   ]
  },
  {
   "cell_type": "code",
   "execution_count": 18,
   "metadata": {},
   "outputs": [
    {
     "name": "stdout",
     "output_type": "stream",
     "text": [
      "El número 3 es primo\n",
      "El ciclo iteró 3 veces\n"
     ]
    }
   ],
   "source": [
    "limite=int(input(\"Ingresa el numero que quieres saber si es primo\"))\n",
    "contador=0\n",
    "iterador=0\n",
    "for n in range (1,limite+1):\n",
    "    if limite%n==0:\n",
    "        contador+=1\n",
    "    iterador+=1\n",
    "if contador>2:\n",
    "    print(f\"El número {limite} no es primo\")\n",
    "else:\n",
    "    print(f\"El número {limite} es primo\")\n",
    "print(f\"El ciclo iteró {iterador} veces\")"
   ]
  },
  {
   "attachments": {},
   "cell_type": "markdown",
   "metadata": {},
   "source": [
    "10) ¿Se puede mejorar el proceso del punto 9? Utilizar las sentencias break y/ó continue para tal fin\n"
   ]
  },
  {
   "cell_type": "code",
   "execution_count": 19,
   "metadata": {},
   "outputs": [
    {
     "name": "stdout",
     "output_type": "stream",
     "text": [
      "El número 7 es primo\n",
      "El ciclo iteró 2 veces\n"
     ]
    }
   ],
   "source": [
    "limite=int(input(\"Ingresa el numero que quieres saber si es primo\"))\n",
    "contador=0\n",
    "iterador=0\n",
    "for n in range (1,limite+1):\n",
    "    if limite%n!=0:\n",
    "        continue\n",
    "    if limite%n==0:\n",
    "        contador+=1\n",
    "    iterador+=1\n",
    "if contador>2:\n",
    "    print(f\"El número {limite} no es primo\")\n",
    "else:\n",
    "    print(f\"El número {limite} es primo\")\n",
    "print(f\"El ciclo iteró {iterador} veces\")"
   ]
  },
  {
   "attachments": {},
   "cell_type": "markdown",
   "metadata": {},
   "source": [
    "11) En los puntos 9 y 10, se diseño un código que encuentra números primos y además se lo optimizó. ¿Es posible saber en qué medida se optimizó?\n"
   ]
  },
  {
   "attachments": {},
   "cell_type": "markdown",
   "metadata": {},
   "source": [
    "Sí, contando las iteraciones. Sin continue, itera la cantidad de numeros que hay entre 1 y el numero primo, es decir 30 veces.\n",
    "Con continue, si el cociente no es exacto simplemente se salta la iteración. En vez de pasar por ello 30 veces pasa solo 2.  "
   ]
  },
  {
   "attachments": {},
   "cell_type": "markdown",
   "metadata": {},
   "source": [
    "12) Si la cantidad de números que se evalúa es mayor a treinta, esa optimización crece?\n"
   ]
  },
  {
   "attachments": {},
   "cell_type": "markdown",
   "metadata": {},
   "source": [
    "13) Aplicando continue, armar un ciclo while que solo imprima los valores divisibles por 12, dentro del rango de números de 100 a 300\n"
   ]
  },
  {
   "cell_type": "code",
   "execution_count": 5,
   "metadata": {},
   "outputs": [
    {
     "name": "stdout",
     "output_type": "stream",
     "text": [
      "El número 12 es divisible entre 12\n",
      "El número 24 es divisible entre 12\n",
      "El número 36 es divisible entre 12\n",
      "El número 48 es divisible entre 12\n",
      "El número 60 es divisible entre 12\n",
      "El número 72 es divisible entre 12\n",
      "El número 84 es divisible entre 12\n",
      "El número 96 es divisible entre 12\n",
      "El número 108 es divisible entre 12\n",
      "El número 120 es divisible entre 12\n",
      "El número 132 es divisible entre 12\n",
      "El número 144 es divisible entre 12\n",
      "El número 156 es divisible entre 12\n",
      "El número 168 es divisible entre 12\n",
      "El número 180 es divisible entre 12\n",
      "El número 192 es divisible entre 12\n",
      "El número 204 es divisible entre 12\n",
      "El número 216 es divisible entre 12\n",
      "El número 228 es divisible entre 12\n",
      "El número 240 es divisible entre 12\n",
      "El número 252 es divisible entre 12\n",
      "El número 264 es divisible entre 12\n",
      "El número 276 es divisible entre 12\n",
      "El número 288 es divisible entre 12\n",
      "El número 300 es divisible entre 12\n"
     ]
    }
   ],
   "source": [
    "n=0\n",
    "while True:\n",
    "    n+=1\n",
    "    if n<100 and n>300:\n",
    "        continue\n",
    "    if n%12==0:\n",
    "        print(f\"El número {n} es divisible entre 12\")\n",
    "    if n>=301:\n",
    "        break"
   ]
  },
  {
   "attachments": {},
   "cell_type": "markdown",
   "metadata": {},
   "source": [
    "14) Utilizar la función **input()** que permite hacer ingresos por teclado, para encontrar números primos y dar la opción al usario de buscar el siguiente\n"
   ]
  },
  {
   "cell_type": "code",
   "execution_count": 5,
   "metadata": {},
   "outputs": [],
   "source": [
    "limite=2\n",
    "while True:\n",
    "    continuar=input(\"introduce si deseas o no buscar el siguiente numero primo. 'si' o 'no'\")\n",
    "    if continuar == \"no\":\n",
    "        break\n",
    "    if continuar == \"si\":\n",
    "        primo=False        \n",
    "        limite+=1\n",
    "        while True:            \n",
    "            contador=0\n",
    "            for n in range (1,limite+1):\n",
    "                if limite%n==0:\n",
    "                    contador+=1\n",
    "            if contador<=2:\n",
    "                primo=True       \n",
    "            if primo==True:\n",
    "               break\n",
    "            print(f\"el numero {limite} es primo\")\n",
    "\n",
    "\n",
    "    \n",
    "\n"
   ]
  },
  {
   "cell_type": "markdown",
   "metadata": {},
   "source": [
    "15) Crear un ciclo while que encuentre dentro del rango de 100 a 300 el primer número divisible por 3 y además múltiplo de 6"
   ]
  }
 ],
 "metadata": {
  "kernelspec": {
   "display_name": "Python 3",
   "language": "python",
   "name": "python3"
  },
  "language_info": {
   "codemirror_mode": {
    "name": "ipython",
    "version": 3
   },
   "file_extension": ".py",
   "mimetype": "text/x-python",
   "name": "python",
   "nbconvert_exporter": "python",
   "pygments_lexer": "ipython3",
   "version": "3.9.0"
  },
  "orig_nbformat": 4
 },
 "nbformat": 4,
 "nbformat_minor": 2
}
