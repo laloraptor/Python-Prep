{
 "cells": [
  {
   "attachments": {},
   "cell_type": "markdown",
   "metadata": {},
   "source": [
    "## Flujos de Control\n",
    "\n",
    "1) Crear una variable que contenga un elemento del conjunto de números enteros y luego imprimir por pantalla si es mayor o menor a cero"
   ]
  },
  {
   "cell_type": "code",
   "execution_count": 5,
   "metadata": {},
   "outputs": [
    {
     "name": "stdout",
     "output_type": "stream",
     "text": [
      "El número  es cero\n"
     ]
    }
   ],
   "source": [
    "variable=0\n",
    "if (variable>0):\n",
    "    print('El número es mayor a cero')\n",
    "elif (variable<0):\n",
    "    print('El número es menor a cero')\n",
    "else:\n",
    "    print('El número  es cero')"
   ]
  },
  {
   "attachments": {},
   "cell_type": "markdown",
   "metadata": {},
   "source": [
    "2) Crear dos variables y un condicional que informe si son del mismo tipo de dato"
   ]
  },
  {
   "cell_type": "code",
   "execution_count": 12,
   "metadata": {},
   "outputs": [
    {
     "name": "stdout",
     "output_type": "stream",
     "text": [
      "las variables no son del mismo tipo\n"
     ]
    }
   ],
   "source": [
    "var1=\"cero\"\n",
    "var2=56\n",
    "if (type(var1) == type(var2)):\n",
    "    print('las variables son del mismo tipo')\n",
    "else:\n",
    "    print('las variables no son del mismo tipo')\n"
   ]
  },
  {
   "attachments": {},
   "cell_type": "markdown",
   "metadata": {},
   "source": [
    "3) Para los valores enteros del 1 al 20, imprimir por pantalla si es par o impar"
   ]
  },
  {
   "cell_type": "code",
   "execution_count": 17,
   "metadata": {},
   "outputs": [
    {
     "name": "stdout",
     "output_type": "stream",
     "text": [
      "1 es impar\n",
      "2 es par\n",
      "3 es impar\n",
      "4 es par\n",
      "5 es impar\n",
      "6 es par\n",
      "7 es impar\n",
      "8 es par\n",
      "9 es impar\n",
      "10 es par\n",
      "11 es impar\n",
      "12 es par\n",
      "13 es impar\n",
      "14 es par\n",
      "15 es impar\n",
      "16 es par\n",
      "17 es impar\n",
      "18 es par\n",
      "19 es impar\n",
      "20 es par\n"
     ]
    }
   ],
   "source": [
    "for n in range (1,21):\n",
    "    if n%2 == 1:\n",
    "        print (str(n) + \" es impar\")\n",
    "    elif n%2 == 0:\n",
    "        print (str(n) + \" es par\")\n"
   ]
  },
  {
   "attachments": {},
   "cell_type": "markdown",
   "metadata": {},
   "source": [
    "4) En un ciclo for mostrar para los valores entre 0 y 5 el resultado de elevarlo a la potencia igual a 3\n"
   ]
  },
  {
   "cell_type": "code",
   "execution_count": 18,
   "metadata": {},
   "outputs": [
    {
     "name": "stdout",
     "output_type": "stream",
     "text": [
      "el resultado de elevar  0  a la tercera potencia es: 0\n",
      "el resultado de elevar  1  a la tercera potencia es: 1\n",
      "el resultado de elevar  2  a la tercera potencia es: 8\n",
      "el resultado de elevar  3  a la tercera potencia es: 27\n",
      "el resultado de elevar  4  a la tercera potencia es: 64\n",
      "el resultado de elevar  5  a la tercera potencia es: 125\n"
     ]
    }
   ],
   "source": [
    "for n in range (0,6):\n",
    "    n3=n**3\n",
    "    print(\"el resultado de elevar \", str(n), \" a la tercera potencia es:\", str(n3))"
   ]
  },
  {
   "cell_type": "code",
   "execution_count": 1,
   "metadata": {},
   "outputs": [
    {
     "name": "stdout",
     "output_type": "stream",
     "text": [
      "El resultado de elevar  0 a la tercera potencia es: 0\n",
      "El resultado de elevar  1 a la tercera potencia es: 1\n",
      "El resultado de elevar  2 a la tercera potencia es: 8\n",
      "El resultado de elevar  3 a la tercera potencia es: 27\n",
      "El resultado de elevar  4 a la tercera potencia es: 64\n",
      "El resultado de elevar  5 a la tercera potencia es: 125\n"
     ]
    }
   ],
   "source": [
    "##Puedes hacer la operación en el print()\n",
    "for n in range (0,6):\n",
    "    print(\"El resultado de elevar \", str(n), 'a la tercera potencia es:', str(n**3))"
   ]
  },
  {
   "attachments": {},
   "cell_type": "markdown",
   "metadata": {},
   "source": [
    "5) Crear una variable que contenga un número entero y realizar un ciclo for la misma cantidad de ciclos\n"
   ]
  },
  {
   "cell_type": "code",
   "execution_count": 2,
   "metadata": {},
   "outputs": [
    {
     "name": "stdout",
     "output_type": "stream",
     "text": [
      "6\n",
      "6\n",
      "6\n",
      "6\n",
      "6\n",
      "6\n",
      "6\n"
     ]
    }
   ],
   "source": [
    "n=6\n",
    "for N in range (0,n+1):\n",
    "    print(n)\n",
    "    "
   ]
  },
  {
   "cell_type": "code",
   "execution_count": 3,
   "metadata": {},
   "outputs": [],
   "source": [
    "##También puedo dejarlo solo con el pass para que no imprima nada\n",
    "n=6\n",
    "for N in range (0,n+1):\n",
    "    pass"
   ]
  },
  {
   "attachments": {},
   "cell_type": "markdown",
   "metadata": {},
   "source": [
    "6) Utilizar un ciclo while para realizar el factorial de un número guardado en una variable, sólo si la variable contiene un número entero mayor a 0\n"
   ]
  },
  {
   "cell_type": "code",
   "execution_count": 53,
   "metadata": {},
   "outputs": [
    {
     "name": "stdout",
     "output_type": "stream",
     "text": [
      "El numero no entero\n"
     ]
    }
   ],
   "source": [
    "num=4.4\n",
    "if (type(num)==int):\n",
    "    if num>0:    \n",
    "        factorial=num\n",
    "        while(num>2):\n",
    "            num=num-1\n",
    "            factorial=factorial*num\n",
    "        print(\"el factorial es: \", str(factorial))\n",
    "    else:\n",
    "        print(\"el numero no es mayor que cero\")\n",
    "else:\n",
    "    print(\"El numero no entero\")"
   ]
  },
  {
   "attachments": {},
   "cell_type": "markdown",
   "metadata": {},
   "source": [
    "7) Crear un ciclo for dentro de un ciclo while\n"
   ]
  },
  {
   "cell_type": "code",
   "execution_count": 24,
   "metadata": {},
   "outputs": [
    {
     "name": "stdout",
     "output_type": "stream",
     "text": [
      "este es un ciclo for en la iteración no: 1\n",
      "este es un ciclo while en la iteración no: 1\n",
      "este es un ciclo for en la iteración no: 2\n",
      "este es un ciclo while en la iteración no: 2\n",
      "este es un ciclo for en la iteración no: 3\n",
      "este es un ciclo while en la iteración no: 3\n",
      "este es un ciclo for en la iteración no: 4\n",
      "este es un ciclo while en la iteración no: 4\n"
     ]
    }
   ],
   "source": [
    "n=0\n",
    "while(n<5):\n",
    "    n=n+1\n",
    "    for n in range (n, 5):\n",
    "        print(\"este es un ciclo for en la iteración no:\", str(n))\n",
    "        print(\"este es un ciclo while en la iteración no:\", str(n))"
   ]
  },
  {
   "attachments": {},
   "cell_type": "markdown",
   "metadata": {},
   "source": [
    "8) Crear un ciclo while dentro de un ciclo for\n"
   ]
  },
  {
   "cell_type": "code",
   "execution_count": 28,
   "metadata": {},
   "outputs": [
    {
     "name": "stdout",
     "output_type": "stream",
     "text": [
      "Este es un ciclo while en la iteración  2\n",
      "Este es un for  en la iteración  2\n",
      "Este es un ciclo while en la iteración  3\n",
      "Este es un for  en la iteración  3\n",
      "Este es un ciclo while en la iteración  4\n",
      "Este es un for  en la iteración  4\n",
      "Este es un ciclo while en la iteración  5\n",
      "Este es un for  en la iteración  5\n",
      "Este es un ciclo while en la iteración  3\n",
      "Este es un for  en la iteración  3\n",
      "Este es un ciclo while en la iteración  4\n",
      "Este es un for  en la iteración  4\n",
      "Este es un ciclo while en la iteración  5\n",
      "Este es un for  en la iteración  5\n",
      "Este es un ciclo while en la iteración  4\n",
      "Este es un for  en la iteración  4\n",
      "Este es un ciclo while en la iteración  5\n",
      "Este es un for  en la iteración  5\n"
     ]
    }
   ],
   "source": [
    "for n in range (0,3):\n",
    "    n=n+1\n",
    "    while(n<5):\n",
    "        n2=\n",
    "        print(\"Este es un ciclo while en la iteración \", str(n))\n",
    "        print(\"Este es un for  en la iteración \", str(n))"
   ]
  },
  {
   "attachments": {},
   "cell_type": "markdown",
   "metadata": {},
   "source": [
    "9) Imprimir los números primos existentes entre 0 y 30\n"
   ]
  },
  {
   "cell_type": "code",
   "execution_count": 40,
   "metadata": {},
   "outputs": [
    {
     "ename": "IndentationError",
     "evalue": "expected an indented block (564836908.py, line 3)",
     "output_type": "error",
     "traceback": [
      "\u001b[1;36m  Cell \u001b[1;32mIn [40], line 3\u001b[1;36m\u001b[0m\n\u001b[1;33m    elif n%3==0:\u001b[0m\n\u001b[1;37m    ^\u001b[0m\n\u001b[1;31mIndentationError\u001b[0m\u001b[1;31m:\u001b[0m expected an indented block\n"
     ]
    }
   ],
   "source": [
    "for n in range (0, 31):\n",
    "    if n%2==0:\n",
    "    elif n%3==0:\n",
    "    elif n%4==0:\n",
    "    elif n%5==0:\n",
    "        print(n)\n",
    "    else:\n",
    "        pass"
   ]
  },
  {
   "attachments": {},
   "cell_type": "markdown",
   "metadata": {},
   "source": [
    "10) ¿Se puede mejorar el proceso del punto 9? Utilizar las sentencias break y/ó continue para tal fin\n"
   ]
  },
  {
   "attachments": {},
   "cell_type": "markdown",
   "metadata": {},
   "source": [
    "11) En los puntos 9 y 10, se diseño un código que encuentra números primos y además se lo optimizó. ¿Es posible saber en qué medida se optimizó?\n"
   ]
  },
  {
   "attachments": {},
   "cell_type": "markdown",
   "metadata": {},
   "source": [
    "12) Si la cantidad de números que se evalúa es mayor a treinta, esa optimización crece?\n"
   ]
  },
  {
   "attachments": {},
   "cell_type": "markdown",
   "metadata": {},
   "source": [
    "13) Aplicando continue, armar un ciclo while que solo imprima los valores divisibles por 12, dentro del rango de números de 100 a 300\n"
   ]
  },
  {
   "cell_type": "code",
   "execution_count": null,
   "metadata": {},
   "outputs": [],
   "source": [
    "for n in range (10,301)\n"
   ]
  },
  {
   "attachments": {},
   "cell_type": "markdown",
   "metadata": {},
   "source": [
    "14) Utilizar la función **input()** que permite hacer ingresos por teclado, para encontrar números primos y dar la opción al usario de buscar el siguiente\n"
   ]
  },
  {
   "cell_type": "markdown",
   "metadata": {},
   "source": [
    "15) Crear un ciclo while que encuentre dentro del rango de 100 a 300 el primer número divisible por 3 y además múltiplo de 6"
   ]
  }
 ],
 "metadata": {
  "kernelspec": {
   "display_name": "Python 3",
   "language": "python",
   "name": "python3"
  },
  "language_info": {
   "codemirror_mode": {
    "name": "ipython",
    "version": 3
   },
   "file_extension": ".py",
   "mimetype": "text/x-python",
   "name": "python",
   "nbconvert_exporter": "python",
   "pygments_lexer": "ipython3",
   "version": "3.9.0"
  },
  "orig_nbformat": 4
 },
 "nbformat": 4,
 "nbformat_minor": 2
}
