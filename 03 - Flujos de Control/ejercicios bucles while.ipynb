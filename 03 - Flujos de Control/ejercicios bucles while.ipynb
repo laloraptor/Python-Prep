{
 "cells": [
  {
   "attachments": {},
   "cell_type": "markdown",
   "metadata": {},
   "source": [
    "Crea un programa en el que pidas un numero y regreses la raiz cuadrada del mismo e indicando al usuario si puso un valor que arrojaría un numero imaginario"
   ]
  },
  {
   "cell_type": "code",
   "execution_count": 1,
   "metadata": {},
   "outputs": [
    {
     "name": "stdout",
     "output_type": "stream",
     "text": [
      "Este programa te regresará la raiz cuadrada de un numero mayor a 0, si no cumples está condición se te avisará\n",
      "El número que proporcionaste fue -20 y no es mayor a 0. Cámbialo \n",
      "El número que colocaste fue 20. Su raíz es 4.47213595499958\n"
     ]
    }
   ],
   "source": [
    "import math\n",
    "print(\"Este programa te regresará la raiz cuadrada de un numero mayor a 0, si no cumples está condición se te avisará\")\n",
    "numero=int(input(\"Ingresa el número\"))\n",
    "while numero<0:\n",
    "    print(f\"El número que proporcionaste fue {numero} y no es mayor a 0. Cámbialo \")\n",
    "    numero=int(input(\"coloca aquí tu nuevo número\"))\n",
    "raiz=math.sqrt(numero)\n",
    "print(f\"El número que colocaste fue {numero}. Su raíz es {raiz}\")\n",
    "\n"
   ]
  },
  {
   "attachments": {},
   "cell_type": "markdown",
   "metadata": {},
   "source": [
    "Muestra un mensaje \"hola mundo\" 10 veces usando while "
   ]
  },
  {
   "cell_type": "code",
   "execution_count": 2,
   "metadata": {},
   "outputs": [
    {
     "name": "stdout",
     "output_type": "stream",
     "text": [
      "Esta es la itación número 1 de 'Hola mundo' \n",
      "Esta es la itación número 2 de 'Hola mundo' \n",
      "Esta es la itación número 3 de 'Hola mundo' \n",
      "Esta es la itación número 4 de 'Hola mundo' \n",
      "Esta es la itación número 5 de 'Hola mundo' \n",
      "Esta es la itación número 6 de 'Hola mundo' \n",
      "Esta es la itación número 7 de 'Hola mundo' \n",
      "Esta es la itación número 8 de 'Hola mundo' \n",
      "Esta es la itación número 9 de 'Hola mundo' \n",
      "Esta es la itación número 10 de 'Hola mundo' \n"
     ]
    }
   ],
   "source": [
    "i=10\n",
    "contador=0\n",
    "while contador<i:\n",
    "    contador+=1\n",
    "    print(f\"Esta es la iteracion número {contador} de 'Hola mundo' \")\n"
   ]
  },
  {
   "attachments": {},
   "cell_type": "markdown",
   "metadata": {},
   "source": [
    "Escribir un programa que pida al usuario ingresar un número entero positivo y luego imprima por pantalla todos los números impares desde 1 hasta ese número."
   ]
  },
  {
   "cell_type": "code",
   "execution_count": 6,
   "metadata": {},
   "outputs": [
    {
     "name": "stdout",
     "output_type": "stream",
     "text": [
      "este programa te permite encontrar los numeros impares positivos desde 0 hasta el número que indiques\n",
      "1\n",
      "3\n"
     ]
    }
   ],
   "source": [
    "print(\"este programa te permite encontrar los numeros impares positivos desde 0 hasta el número que indiques\")\n",
    "limite=int(input(\"Ingresa el número hasta el que quieres encontrar los números impares\"))\n",
    "contador=0\n",
    "while contador<limite:\n",
    "    contador+=1\n",
    "    if contador%2!=0:\n",
    "        print(str(contador))\n",
    "    else:\n",
    "        pass"
   ]
  },
  {
   "attachments": {},
   "cell_type": "markdown",
   "metadata": {},
   "source": [
    "Escribir un programa que pida al usuario ingresar una cadena de caracteres y luego imprima por pantalla cuántas vocales tiene esa cadena."
   ]
  },
  {
   "cell_type": "code",
   "execution_count": 3,
   "metadata": {},
   "outputs": [
    {
     "name": "stdout",
     "output_type": "stream",
     "text": [
      "este programa va a buscar la cantidad de vocales que tiene un chararter que agreges\n",
      "La cantidad de vocales que tiene la palabra quesadiklla es de: 5\n"
     ]
    }
   ],
   "source": [
    "print(\"este programa va a buscar la cantidad de vocales que tiene un chararter que agreges\")\n",
    "\n",
    "palabra=input(\"Añade aquí la palabra en la que quieres contar el número de vocales\")\n",
    "posletra=0\n",
    "contador=0\n",
    "while posletra<len(palabra):\n",
    "    letracomprobar=palabra[posletra]\n",
    "    if letracomprobar in \"aeiouAEIOU\":\n",
    "        contador+=1\n",
    "    posletra+=1\n",
    "print(f\"La cantidad de vocales que tiene la palabra {palabra} es de: {contador}\")\n"
   ]
  },
  {
   "attachments": {},
   "cell_type": "markdown",
   "metadata": {},
   "source": [
    "Escribir un programa que calcule el factorial de un número entero positivo utilizando un ciclo while. El usuario debe ingresar el número del cual se quiere calcular el factorial."
   ]
  },
  {
   "cell_type": "code",
   "execution_count": 40,
   "metadata": {},
   "outputs": [
    {
     "name": "stdout",
     "output_type": "stream",
     "text": [
      "este programa va a calcular el factorial de un número entero positivo que proporciones\n",
      "El factorial de 4 es 24\n"
     ]
    }
   ],
   "source": [
    "print(\"este programa va a calcular el factorial de un número entero positivo que proporciones\")\n",
    "numero=int(input(\"Proporciona aquí el número\"))\n",
    "contador=1\n",
    "factorial=1\n",
    "while contador<=numero:\n",
    "    factorial*=contador\n",
    "    contador+=1\n",
    "\n",
    "print(f\"El factorial de {numero} es {factorial}\")"
   ]
  },
  {
   "attachments": {},
   "cell_type": "markdown",
   "metadata": {},
   "source": [
    "Escribir un programa que pida al usuario ingresar un número entero positivo y luego imprima por pantalla todos los números pares desde 2 hasta ese número."
   ]
  },
  {
   "cell_type": "code",
   "execution_count": 2,
   "metadata": {},
   "outputs": [
    {
     "name": "stdout",
     "output_type": "stream",
     "text": [
      "los numeros pares entre 2 y 4 son:\n",
      "2\n",
      "4\n"
     ]
    }
   ],
   "source": [
    "numero=int(input(\"Ingresa un numero entero positivo para que te muestre los numeros pares hasta ese numero\"))\n",
    "inicio=2\n",
    "while numero<2:\n",
    "    numero=int(input(\"tu número es menor a 2. Por favor proporciona uno igual o mayor a 2\"))\n",
    "while inicio<=numero:\n",
    "    if inicio%2==0:\n",
    "        print(str(inicio))\n",
    "    inicio+=2\n",
    "print(f\"los numeros pares entre 2 y {numero} son:\")    "
   ]
  },
  {
   "attachments": {},
   "cell_type": "markdown",
   "metadata": {},
   "source": [
    "Escribir un programa que pida al usuario ingresar un número entero positivo y luego imprima por pantalla si ese número es primo o no. Puedes utilizar un ciclo while para iterar sobre los posibles divisores del número y comprobar si es primo o no."
   ]
  },
  {
   "cell_type": "code",
   "execution_count": 14,
   "metadata": {},
   "outputs": [
    {
     "name": "stdout",
     "output_type": "stream",
     "text": [
      "El número no es primo\n"
     ]
    }
   ],
   "source": [
    "numero=int(input(\"Ingresa un numero entero positivo\"))\n",
    "inicio=2\n",
    "contador=0\n",
    "while numero<=1:\n",
    "    print(\"El número que ingresaste es menor o igual a 1, por lo tanto o bien es negativo o bien sólo tiene un divisor. Coloca un numero correcto\")\n",
    "    numero=int(input(\"Coloca aquí un número válido\"))\n",
    "\n",
    "while inicio<=numero:\n",
    "    cociente=numero%inicio\n",
    "    if cociente==0:\n",
    "        contador+=1\n",
    "    inicio+=1\n",
    "if contador<=1:\n",
    "    print(\"El numero es primo\")\n",
    "else:\n",
    "    print(\"El número no es primo\")\n"
   ]
  }
 ],
 "metadata": {
  "kernelspec": {
   "display_name": "Python 3",
   "language": "python",
   "name": "python3"
  },
  "language_info": {
   "codemirror_mode": {
    "name": "ipython",
    "version": 3
   },
   "file_extension": ".py",
   "mimetype": "text/x-python",
   "name": "python",
   "nbconvert_exporter": "python",
   "pygments_lexer": "ipython3",
   "version": "3.9.0"
  },
  "orig_nbformat": 4
 },
 "nbformat": 4,
 "nbformat_minor": 2
}
