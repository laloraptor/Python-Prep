{
 "cells": [
  {
   "attachments": {},
   "cell_type": "markdown",
   "metadata": {},
   "source": [
    "Pide al usuario que ingrese un nombre. Si el nombre contiene un numero indicale que fue un error, y repite el ingreso hasta que sea correcto.\n"
   ]
  },
  {
   "cell_type": "code",
   "execution_count": 3,
   "metadata": {},
   "outputs": [
    {
     "name": "stdout",
     "output_type": "stream",
     "text": [
      "El nombre contiene numeros. Por favor ingresalo de nuevo\n",
      "El nombre contiene numeros. Por favor ingresalo de nuevo\n",
      "El nombre fue correcto. Ingresaste contador\n"
     ]
    }
   ],
   "source": [
    "while True:\n",
    "    contador=0\n",
    "    nombre=input(\"ingresa el nombre aqui\")\n",
    "    for n in nombre:\n",
    "        if n in \"0123456789\":\n",
    "            contador+=1\n",
    "    if contador>=1:\n",
    "        print(\"El nombre contiene numeros. Por favor ingresalo de nuevo\")\n",
    "    else:\n",
    "        break\n",
    "print(f\"El nombre fue correcto. Ingresaste {nombre}\")\n",
    "\n",
    "##Tambien pudo haberse hecho        if any(char.isdigit() for char in nombre):\n",
    "##                                      print(\"Error: el nombre contiene números. Intente nuevamente.\")"
   ]
  }
 ],
 "metadata": {
  "kernelspec": {
   "display_name": "Python 3",
   "language": "python",
   "name": "python3"
  },
  "language_info": {
   "codemirror_mode": {
    "name": "ipython",
    "version": 3
   },
   "file_extension": ".py",
   "mimetype": "text/x-python",
   "name": "python",
   "nbconvert_exporter": "python",
   "pygments_lexer": "ipython3",
   "version": "3.9.0"
  },
  "orig_nbformat": 4
 },
 "nbformat": 4,
 "nbformat_minor": 2
}
