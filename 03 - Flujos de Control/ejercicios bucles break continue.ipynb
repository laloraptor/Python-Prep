{
 "cells": [
  {
   "attachments": {},
   "cell_type": "markdown",
   "metadata": {},
   "source": [
    "Pide al usuario que ingrese un nombre. Si el nombre contiene un numero indicale que fue un error, y repite el ingreso hasta que sea correcto.\n"
   ]
  },
  {
   "cell_type": "code",
   "execution_count": 3,
   "metadata": {},
   "outputs": [
    {
     "name": "stdout",
     "output_type": "stream",
     "text": [
      "El nombre contiene numeros. Por favor ingresalo de nuevo\n",
      "El nombre contiene numeros. Por favor ingresalo de nuevo\n",
      "El nombre fue correcto. Ingresaste contador\n"
     ]
    }
   ],
   "source": [
    "while True:\n",
    "    contador=0\n",
    "    nombre=input(\"ingresa el nombre aqui\")\n",
    "    for n in nombre:\n",
    "        if n in \"0123456789\":\n",
    "            contador+=1\n",
    "    if contador>=1:\n",
    "        print(\"El nombre contiene numeros. Por favor ingresalo de nuevo\")\n",
    "    else:\n",
    "        break\n",
    "print(f\"El nombre fue correcto. Ingresaste {nombre}\")\n",
    "\n",
    "##Tambien pudo haberse hecho        if any(char.isdigit() for char in nombre):\n",
    "##                                      print(\"Error: el nombre contiene números. Intente nuevamente.\")"
   ]
  },
  {
   "attachments": {},
   "cell_type": "markdown",
   "metadata": {},
   "source": [
    "Escribe un programa que pregunte al usuario por un número del 1 al 10 y, si el número ingresado es menor que 1 o mayor que 10, muestre un mensaje de error y solicite un nuevo número."
   ]
  },
  {
   "cell_type": "code",
   "execution_count": 7,
   "metadata": {},
   "outputs": [
    {
     "name": "stdout",
     "output_type": "stream",
     "text": [
      "Error. El número 11 no está en el rango indicado. Corrige\n",
      "Error. El número 12 no está en el rango indicado. Corrige\n",
      "Tu número fue correcto. Tu número fue 1 y está entre 1 y 10\n"
     ]
    }
   ],
   "source": [
    "while True:\n",
    "    numero=int(input(\"introduce un número que esté entre 1 y 10\"))\n",
    "    if numero>=1 and numero<=10:\n",
    "        break\n",
    "    else:\n",
    "        print(f\"Error. El número {numero} no está en el rango indicado. Corrige\")\n",
    "print(f\"Tu número fue correcto. Tu número fue {numero} y está entre 1 y 10\")"
   ]
  },
  {
   "attachments": {},
   "cell_type": "markdown",
   "metadata": {},
   "source": [
    "Escribe un programa que pida al usuario que ingrese una palabra y, si la palabra contiene la letra 'a', muestre un mensaje de advertencia y solicite una nueva palabra."
   ]
  },
  {
   "cell_type": "code",
   "execution_count": 21,
   "metadata": {},
   "outputs": [
    {
     "name": "stdout",
     "output_type": "stream",
     "text": [
      "Error, la palabra contiene la letra a. Prueba de nuevo\n",
      "Error, la palabra contiene la letra a. Prueba de nuevo\n",
      "Error, la palabra contiene la letra a. Prueba de nuevo\n",
      "tu palabra fue hugo y es correcta.  \n"
     ]
    }
   ],
   "source": [
    "while True:\n",
    "    contador=0\n",
    "    palabra=input(\"Ingresa una palabra que no contenga la letra a\")\n",
    "    for n in palabra:\n",
    "        if n in \"aA\":\n",
    "            contador+=1\n",
    "    if contador>=1:\n",
    "        print(\"Error, la palabra contiene la letra a. Prueba de nuevo\")\n",
    "    if contador==0:\n",
    "        break\n",
    "    else:\n",
    "        pass\n",
    "print(f\"tu palabra fue {palabra} y es correcta.  \")\n",
    "    "
   ]
  },
  {
   "attachments": {},
   "cell_type": "markdown",
   "metadata": {},
   "source": [
    "Escribe un programa que solicite al usuario que ingrese una contraseña y, mientras la contraseña ingresada no sea \"contraseña\", solicite una nueva contraseña."
   ]
  },
  {
   "cell_type": "code",
   "execution_count": null,
   "metadata": {},
   "outputs": [],
   "source": []
  }
 ],
 "metadata": {
  "kernelspec": {
   "display_name": "Python 3",
   "language": "python",
   "name": "python3"
  },
  "language_info": {
   "codemirror_mode": {
    "name": "ipython",
    "version": 3
   },
   "file_extension": ".py",
   "mimetype": "text/x-python",
   "name": "python",
   "nbconvert_exporter": "python",
   "pygments_lexer": "ipython3",
   "version": "3.9.0"
  },
  "orig_nbformat": 4
 },
 "nbformat": 4,
 "nbformat_minor": 2
}
