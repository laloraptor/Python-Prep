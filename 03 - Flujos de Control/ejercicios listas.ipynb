{
 "cells": [
  {
   "attachments": {},
   "cell_type": "markdown",
   "metadata": {},
   "source": [
    "Colecciones - Ejercicio 1: \n",
    "Escriba un programa donde tenga una lista y que, a continuación, elimine los elementos repetidos, por último mostrar la lista."
   ]
  },
  {
   "cell_type": "code",
   "execution_count": 2,
   "metadata": {},
   "outputs": [
    {
     "name": "stdout",
     "output_type": "stream",
     "text": [
      "[0, 1, 2, 3, 4, 5, 7, 8, 9, 11, 12, 20, 22]\n"
     ]
    }
   ],
   "source": [
    "lista  = [1,2,3,9,2,5,0,8,12,20,22,11,2,1,22,9,5,7,3,4]\n",
    "lista = list(set(lista))\n",
    "print(lista)"
   ]
  },
  {
   "attachments": {},
   "cell_type": "markdown",
   "metadata": {},
   "source": [
    "Colecciones - Ejercicio 2: \n",
    "Escriba un programa que tenga dos listas y que, a continuación, cree las siguientes listas (en las que no debe haber repeticiones):\n",
    "\n",
    "- Lista de elementos que aparecen en las dos listas.\n",
    "- Lista de elementos que aparecen en la primera lista, pero no en la segunda.\n",
    "- Lista de elementos que aparecen en la segunda lista, pero no en la primera.\n",
    "- Lista de elementos que aparecen en ambas listas."
   ]
  },
  {
   "cell_type": "code",
   "execution_count": 7,
   "metadata": {},
   "outputs": [
    {
     "name": "stdout",
     "output_type": "stream",
     "text": [
      "{1, 2, 5, 8, 9, 'portugal', 'sopa', 'méxico', 'albania', 'madrid', 'sopenco'}\n",
      "{'sopenco', 9, 'madrid'}\n",
      "{5, 8, 'portugal', 'albania', 'sopa'}\n",
      "{1, 2, 'méxico'}\n"
     ]
    }
   ],
   "source": [
    "lista1= [\"méxico\", 1, \"madrid\", 2, \"sopenco\", 9]\n",
    "lista2= [\"méxico\",\"albania\", 1,2,5,8,\"portugal\", \"sopa\", \"méxico\"]\n",
    "union = set(lista1)| set(lista2)\n",
    "print(union)\n",
    "\n",
    "difa = set(lista1) - set(lista2)\n",
    "print(difa)\n",
    "\n",
    "difb = set(lista2)- set(lista1)\n",
    "print(difb)\n",
    "\n",
    "intersec = set(lista1) & set(lista2)\n",
    "print(intersec)\n"
   ]
  },
  {
   "attachments": {},
   "cell_type": "markdown",
   "metadata": {},
   "source": [
    "Colecciones - Ejercicio 3: \n",
    "Escriba un programa donde cree una lista con los siguientes personajes del Señor de los anillos. \n",
    "\n",
    "Nombre: Aragorn\n",
    "Clase: Guerrero\n",
    "Raza: Dúnadan del Norte \n",
    "\n",
    "Nombre: Gandalf\n",
    "Clase: Mago\n",
    "Raza: Istar \n",
    "\n",
    "Nombre: Legolas\n",
    "Clase: Arquero\n",
    "Raza: Elfo Sindar"
   ]
  },
  {
   "cell_type": "code",
   "execution_count": 8,
   "metadata": {},
   "outputs": [
    {
     "name": "stdout",
     "output_type": "stream",
     "text": [
      "[{'Nombre': 'Aragorn', 'Clase': 'Guerrero', 'Raza': 'Dúnadan del Norte'}, {'Nombre': 'Gandalf', 'Clase': 'Mago', 'Raza': 'Istar'}, {'Nombre': 'Legolas', 'Clase': 'Arquero', 'Raza': 'Elfo Sindar'}]\n"
     ]
    }
   ],
   "source": [
    "\n",
    "lordof1={\"Nombre\": \"Aragorn\", \"Clase\": \"Guerrero\", \"Raza\": \"Dúnadan del Norte\"}\n",
    "lordof2 = {\"Nombre\": \"Gandalf\", \"Clase\": \"Mago\", \"Raza\": \"Istar\"}\n",
    "lordof3 ={\"Nombre\": \"Legolas\", \"Clase\": \"Arquero\", \"Raza\": \"Elfo Sindar\"}\n",
    "personajes= [lordof1, lordof2, lordof3]\n",
    "print(personajes)"
   ]
  },
  {
   "cell_type": "markdown",
   "metadata": {},
   "source": []
  }
 ],
 "metadata": {
  "kernelspec": {
   "display_name": "Python 3",
   "language": "python",
   "name": "python3"
  },
  "language_info": {
   "codemirror_mode": {
    "name": "ipython",
    "version": 3
   },
   "file_extension": ".py",
   "mimetype": "text/x-python",
   "name": "python",
   "nbconvert_exporter": "python",
   "pygments_lexer": "ipython3",
   "version": "3.9.0"
  },
  "orig_nbformat": 4
 },
 "nbformat": 4,
 "nbformat_minor": 2
}
