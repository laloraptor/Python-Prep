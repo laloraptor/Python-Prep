{
 "cells": [
  {
   "cell_type": "markdown",
   "metadata": {},
   "source": [
    "1) Crear una lista que contenga nombres de ciudades del mundo que contenga más de 5 elementos e imprimir por pantalla"
   ]
  },
  {
   "cell_type": "code",
   "execution_count": 26,
   "metadata": {},
   "outputs": [
    {
     "name": "stdout",
     "output_type": "stream",
     "text": [
      "La lista se llama lista 1 y contiene los siguientes elementos ['canada', 'méxico', 'brasil', 'etiopia', 'buenos aires', 'santiago']\n"
     ]
    }
   ],
   "source": [
    "lista1=[\"canada\", \"méxico\", \"brasil\", \"etiopia\", \"buenos aires\", \"santiago\"]\n",
    "print(f\"La lista se llama lista 1 y contiene los siguientes elementos {lista1}\")"
   ]
  },
  {
   "attachments": {},
   "cell_type": "markdown",
   "metadata": {},
   "source": [
    "2) Imprimir por pantalla el segundo elemento de la lista\n",
    "\n"
   ]
  },
  {
   "cell_type": "code",
   "execution_count": 3,
   "metadata": {},
   "outputs": [
    {
     "name": "stdout",
     "output_type": "stream",
     "text": [
      "méxico\n"
     ]
    }
   ],
   "source": [
    "print(lista1[1])"
   ]
  },
  {
   "attachments": {},
   "cell_type": "markdown",
   "metadata": {},
   "source": [
    "3) Imprimir por pantalla del segundo al cuarto elemento"
   ]
  },
  {
   "cell_type": "code",
   "execution_count": 11,
   "metadata": {},
   "outputs": [
    {
     "name": "stdout",
     "output_type": "stream",
     "text": [
      "['canada', 'méxico', 'brasil', 'etiopia', 'buenos aires', 'santiago']\n",
      " Los elementos 2 3 y 4 de la lista anterior son: ['méxico', 'brasil', 'etiopia']\n"
     ]
    }
   ],
   "source": [
    "print(lista1)\n",
    "print(f\" Los elementos 2 3 y 4 de la lista anterior son: {lista1[1:4]}\")\n",
    "#empieza recorrido pero "
   ]
  },
  {
   "attachments": {},
   "cell_type": "markdown",
   "metadata": {},
   "source": [
    "4) Visualizar el tipo de dato de la lista"
   ]
  },
  {
   "cell_type": "code",
   "execution_count": 13,
   "metadata": {},
   "outputs": [
    {
     "name": "stdout",
     "output_type": "stream",
     "text": [
      "<class 'list'>\n"
     ]
    }
   ],
   "source": [
    "print(type(lista1))"
   ]
  },
  {
   "attachments": {},
   "cell_type": "markdown",
   "metadata": {},
   "source": [
    "5) Visualizar todos los elementos de la lista a partir del tercero de manera genérica, es decir, sin explicitar la posición del último elemento"
   ]
  },
  {
   "cell_type": "code",
   "execution_count": 14,
   "metadata": {},
   "outputs": [
    {
     "name": "stdout",
     "output_type": "stream",
     "text": [
      "['canada', 'méxico', 'brasil', 'etiopia', 'buenos aires', 'santiago']\n",
      "['brasil', 'etiopia', 'buenos aires', 'santiago']\n"
     ]
    }
   ],
   "source": [
    "print(lista1)\n",
    "print(lista1[2: ])"
   ]
  },
  {
   "attachments": {},
   "cell_type": "markdown",
   "metadata": {},
   "source": [
    "6) Visualizar los primeros 4 elementos de la lista"
   ]
  },
  {
   "cell_type": "code",
   "execution_count": 17,
   "metadata": {},
   "outputs": [
    {
     "name": "stdout",
     "output_type": "stream",
     "text": [
      "['canada', 'méxico', 'brasil', 'etiopia', 'buenos aires', 'santiago']\n",
      "['canada', 'méxico', 'brasil', 'etiopia']\n"
     ]
    }
   ],
   "source": [
    "print(lista1)\n",
    "print(lista1[ :4])"
   ]
  },
  {
   "attachments": {},
   "cell_type": "markdown",
   "metadata": {},
   "source": [
    "7) Agregar una ciudad más a la lista que ya exista y otra que no ¿Arroja algún tipo de error?"
   ]
  },
  {
   "cell_type": "code",
   "execution_count": 27,
   "metadata": {},
   "outputs": [
    {
     "name": "stdout",
     "output_type": "stream",
     "text": [
      "['canada', 'méxico', 'brasil', 'etiopia', 'buenos aires', 'santiago', 'montreal']\n",
      "['canada', 'méxico', 'brasil', 'etiopia', 'buenos aires', 'santiago', 'montreal', 'brasil']\n",
      "2\n"
     ]
    }
   ],
   "source": [
    "#si usas extend en vez de append los caracteres se agregan como letras independientes\n",
    "#lista1.extend(\"montreal\")\n",
    "#print(lista1)\n",
    "#lista1.extend(\"brasil\")\n",
    "#print(lista1)\n",
    "lista1.append(\"montreal\")\n",
    "print(lista1)\n",
    "lista1.append(\"brasil\")\n",
    "print(lista1)\n",
    "#no arroja error, solo duplica el que ya había\n",
    "print(lista1.count(\"brasil\"))"
   ]
  },
  {
   "attachments": {},
   "cell_type": "markdown",
   "metadata": {},
   "source": [
    "8) Agregar otra ciudad, pero en la cuarta posición"
   ]
  },
  {
   "cell_type": "code",
   "execution_count": 30,
   "metadata": {},
   "outputs": [
    {
     "name": "stdout",
     "output_type": "stream",
     "text": [
      "['canada', 'méxico', 'brasil', 'cuarta2', 'etiopia', 'cuarta1', 'buenos aires', 'cuarta', 'santiago', 'montreal', 'brasil']\n"
     ]
    }
   ],
   "source": [
    "lista1.insert(3,\"cuarta2\")\n",
    "print(lista1)"
   ]
  },
  {
   "attachments": {},
   "cell_type": "markdown",
   "metadata": {},
   "source": [
    "9) Concatenar otra lista a la ya creada"
   ]
  },
  {
   "cell_type": "code",
   "execution_count": 31,
   "metadata": {},
   "outputs": [
    {
     "name": "stdout",
     "output_type": "stream",
     "text": [
      "['canada', 'méxico', 'brasil', 'cuarta2', 'etiopia', 'cuarta1', 'buenos aires', 'cuarta', 'santiago', 'montreal', 'brasil']\n",
      "['canada', 'méxico', 'brasil', 'cuarta2', 'etiopia', 'cuarta1', 'buenos aires', 'cuarta', 'santiago', 'montreal', 'brasil', 'nuevos1', 'nuevos2', 'nuevos3']\n"
     ]
    }
   ],
   "source": [
    "print(lista1)\n",
    "lista1.extend([\"nuevos1\", \"nuevos2\", \"nuevos3\"])\n",
    "print(lista1)\n"
   ]
  },
  {
   "attachments": {},
   "cell_type": "markdown",
   "metadata": {},
   "source": [
    "10) Encontrar el índice de la ciudad que en el punto 7 agregamos duplicada. ¿Se nota alguna particularidad?"
   ]
  },
  {
   "cell_type": "code",
   "execution_count": 32,
   "metadata": {},
   "outputs": [
    {
     "name": "stdout",
     "output_type": "stream",
     "text": [
      "2\n"
     ]
    }
   ],
   "source": [
    "print(lista1.index(\"brasil\"))"
   ]
  },
  {
   "attachments": {},
   "cell_type": "markdown",
   "metadata": {},
   "source": [
    "11) ¿Qué pasa si se busca un elemento que no existe?"
   ]
  },
  {
   "cell_type": "code",
   "execution_count": 33,
   "metadata": {},
   "outputs": [
    {
     "ename": "ValueError",
     "evalue": "'moroco' is not in list",
     "output_type": "error",
     "traceback": [
      "\u001b[1;31m---------------------------------------------------------------------------\u001b[0m",
      "\u001b[1;31mValueError\u001b[0m                                Traceback (most recent call last)",
      "\u001b[1;32mc:\\Users\\Edupe\\OneDrive\\Escritorio\\Python-Prep\\04 - Estructuras de datos\\homeworkedu.ipynb Cell 22\u001b[0m in \u001b[0;36m1\n\u001b[1;32m----> <a href='vscode-notebook-cell:/c%3A/Users/Edupe/OneDrive/Escritorio/Python-Prep/04%20-%20Estructuras%20de%20datos/homeworkedu.ipynb#X34sZmlsZQ%3D%3D?line=0'>1</a>\u001b[0m \u001b[39mprint\u001b[39m(lista1\u001b[39m.\u001b[39;49mindex(\u001b[39m\"\u001b[39;49m\u001b[39mmoroco\u001b[39;49m\u001b[39m\"\u001b[39;49m))\n",
      "\u001b[1;31mValueError\u001b[0m: 'moroco' is not in list"
     ]
    }
   ],
   "source": [
    "print(lista1.index(\"moroco\"))\n",
    "#te indica que no está en la lista"
   ]
  },
  {
   "attachments": {},
   "cell_type": "markdown",
   "metadata": {},
   "source": [
    "Eliminar un elemento de la lista"
   ]
  },
  {
   "cell_type": "code",
   "execution_count": 34,
   "metadata": {},
   "outputs": [
    {
     "name": "stdout",
     "output_type": "stream",
     "text": [
      "['canada', 'méxico', 'brasil', 'cuarta2', 'etiopia', 'cuarta1', 'buenos aires', 'cuarta', 'santiago', 'montreal', 'brasil', 'nuevos1', 'nuevos2', 'nuevos3']\n",
      "['canada', 'brasil', 'cuarta2', 'etiopia', 'cuarta1', 'buenos aires', 'cuarta', 'santiago', 'montreal', 'brasil', 'nuevos1', 'nuevos2', 'nuevos3']\n"
     ]
    }
   ],
   "source": [
    "print(lista1)\n",
    "lista1.pop(1)\n",
    "print(lista1)"
   ]
  },
  {
   "cell_type": "code",
   "execution_count": 36,
   "metadata": {},
   "outputs": [
    {
     "name": "stdout",
     "output_type": "stream",
     "text": [
      "['canada', 'brasil', 'cuarta2', 'etiopia', 'cuarta1', 'buenos aires', 'cuarta', 'santiago', 'montreal', 'brasil', 'nuevos1', 'nuevos2', 'nuevos3']\n",
      "['brasil', 'cuarta2', 'etiopia', 'cuarta1', 'buenos aires', 'cuarta', 'santiago', 'montreal', 'brasil', 'nuevos1', 'nuevos2', 'nuevos3']\n"
     ]
    }
   ],
   "source": [
    "print(lista1)\n",
    "lista1.remove(\"canada\")\n",
    "print(lista1)"
   ]
  },
  {
   "attachments": {},
   "cell_type": "markdown",
   "metadata": {},
   "source": [
    "13) ¿Qué pasa si el elemento a eliminar no existe?"
   ]
  },
  {
   "cell_type": "code",
   "execution_count": 37,
   "metadata": {},
   "outputs": [
    {
     "name": "stdout",
     "output_type": "stream",
     "text": [
      "['brasil', 'cuarta2', 'etiopia', 'cuarta1', 'buenos aires', 'cuarta', 'santiago', 'montreal', 'brasil', 'nuevos1', 'nuevos2', 'nuevos3']\n"
     ]
    },
    {
     "ename": "ValueError",
     "evalue": "list.remove(x): x not in list",
     "output_type": "error",
     "traceback": [
      "\u001b[1;31m---------------------------------------------------------------------------\u001b[0m",
      "\u001b[1;31mValueError\u001b[0m                                Traceback (most recent call last)",
      "\u001b[1;32mc:\\Users\\Edupe\\OneDrive\\Escritorio\\Python-Prep\\04 - Estructuras de datos\\homeworkedu.ipynb Cell 27\u001b[0m in \u001b[0;36m2\n\u001b[0;32m      <a href='vscode-notebook-cell:/c%3A/Users/Edupe/OneDrive/Escritorio/Python-Prep/04%20-%20Estructuras%20de%20datos/homeworkedu.ipynb#X42sZmlsZQ%3D%3D?line=0'>1</a>\u001b[0m \u001b[39mprint\u001b[39m(lista1)\n\u001b[1;32m----> <a href='vscode-notebook-cell:/c%3A/Users/Edupe/OneDrive/Escritorio/Python-Prep/04%20-%20Estructuras%20de%20datos/homeworkedu.ipynb#X42sZmlsZQ%3D%3D?line=1'>2</a>\u001b[0m lista1\u001b[39m.\u001b[39;49mremove(\u001b[39m\"\u001b[39;49m\u001b[39mcanada\u001b[39;49m\u001b[39m\"\u001b[39;49m)\n\u001b[0;32m      <a href='vscode-notebook-cell:/c%3A/Users/Edupe/OneDrive/Escritorio/Python-Prep/04%20-%20Estructuras%20de%20datos/homeworkedu.ipynb#X42sZmlsZQ%3D%3D?line=2'>3</a>\u001b[0m \u001b[39mprint\u001b[39m(lista1)\n",
      "\u001b[1;31mValueError\u001b[0m: list.remove(x): x not in list"
     ]
    }
   ],
   "source": [
    "print(lista1)\n",
    "lista1.remove(\"canada\")\n",
    "print(lista1)\n",
    "#te avisa que no está en lista"
   ]
  },
  {
   "attachments": {},
   "cell_type": "markdown",
   "metadata": {},
   "source": [
    "14) Extraer el úlimo elemento de la lista, guardarlo en una variable e imprimirlo"
   ]
  },
  {
   "cell_type": "code",
   "execution_count": 38,
   "metadata": {},
   "outputs": [
    {
     "name": "stdout",
     "output_type": "stream",
     "text": [
      "['brasil', 'cuarta2', 'etiopia', 'cuarta1', 'buenos aires', 'cuarta', 'santiago', 'montreal', 'brasil', 'nuevos1', 'nuevos2', 'nuevos3']\n",
      "['brasil', 'cuarta2', 'etiopia', 'cuarta1', 'buenos aires', 'cuarta', 'santiago', 'montreal', 'brasil', 'nuevos1', 'nuevos2']\n",
      "nuevos3\n"
     ]
    }
   ],
   "source": [
    "print(lista1)\n",
    "ultimo=lista1.pop()\n",
    "print(lista1)\n",
    "print(ultimo)\n"
   ]
  },
  {
   "attachments": {},
   "cell_type": "markdown",
   "metadata": {},
   "source": [
    "Mostrar la lista multiplicada por 4"
   ]
  },
  {
   "cell_type": "code",
   "execution_count": 39,
   "metadata": {},
   "outputs": [
    {
     "name": "stdout",
     "output_type": "stream",
     "text": [
      "['brasil', 'cuarta2', 'etiopia', 'cuarta1', 'buenos aires', 'cuarta', 'santiago', 'montreal', 'brasil', 'nuevos1', 'nuevos2']\n",
      "['brasil', 'cuarta2', 'etiopia', 'cuarta1', 'buenos aires', 'cuarta', 'santiago', 'montreal', 'brasil', 'nuevos1', 'nuevos2', 'brasil', 'cuarta2', 'etiopia', 'cuarta1', 'buenos aires', 'cuarta', 'santiago', 'montreal', 'brasil', 'nuevos1', 'nuevos2', 'brasil', 'cuarta2', 'etiopia', 'cuarta1', 'buenos aires', 'cuarta', 'santiago', 'montreal', 'brasil', 'nuevos1', 'nuevos2', 'brasil', 'cuarta2', 'etiopia', 'cuarta1', 'buenos aires', 'cuarta', 'santiago', 'montreal', 'brasil', 'nuevos1', 'nuevos2']\n"
     ]
    }
   ],
   "source": [
    "print(lista1)\n",
    "print(lista1*4)"
   ]
  },
  {
   "attachments": {},
   "cell_type": "markdown",
   "metadata": {},
   "source": [
    "Crear una tupla que contenga los números enteros del 1 al 20"
   ]
  },
  {
   "cell_type": "code",
   "execution_count": 42,
   "metadata": {},
   "outputs": [
    {
     "name": "stdout",
     "output_type": "stream",
     "text": [
      "[1, 2, 3, 4, 5, 6, 7, 8, 9, 10, 11, 12, 13, 14, 15, 16, 17, 18, 19, 20]\n",
      "(1, 2, 3, 4, 5, 6, 7, 8, 9, 10, 11, 12, 13, 14, 15, 16, 17, 18, 19, 20)\n"
     ]
    }
   ],
   "source": [
    "lista=[]\n",
    "for n in range (1,21):\n",
    "    lista.append(n)\n",
    "print(lista)\n",
    "turpla=tuple(lista)\n",
    "print(turpla)"
   ]
  },
  {
   "attachments": {},
   "cell_type": "markdown",
   "metadata": {},
   "source": [
    "17) Imprimir desde el índice 10 al 15 de la tupla"
   ]
  },
  {
   "cell_type": "code",
   "execution_count": 43,
   "metadata": {},
   "outputs": [
    {
     "name": "stdout",
     "output_type": "stream",
     "text": [
      "(10, 11, 12, 13, 14, 15)\n"
     ]
    }
   ],
   "source": [
    "print(turpla[9:15])"
   ]
  },
  {
   "attachments": {},
   "cell_type": "markdown",
   "metadata": {},
   "source": [
    "18) Evaluar si los números 20 y 30 están dentro de la tupla"
   ]
  },
  {
   "cell_type": "code",
   "execution_count": 54,
   "metadata": {},
   "outputs": [
    {
     "name": "stdout",
     "output_type": "stream",
     "text": [
      "la turpla contiene el núnero 20 pero no el 30\n"
     ]
    }
   ],
   "source": [
    "veinte=False\n",
    "treinta=False\n",
    "for n in turpla:\n",
    "    if n==20:\n",
    "        veinte=True\n",
    "    elif n==30:\n",
    "        treinta=True\n",
    "if veinte==True and treinta==False:\n",
    "    print (\"la turpla contiene el núnero 20 pero no el 30\")\n",
    "if treinta==True and veinte==False:\n",
    "    print (\"la turpla contiene el núnero 30 pero no el 20\")\n",
    "if veinte==True and treinta==True:\n",
    "    print (\"la turpla contiene Ambos números\")\n",
    "if veinte==False and treinta==False:\n",
    "    print (\"la turpla contiene no contiene ni el número 20 ni el número 30\")\n"
   ]
  },
  {
   "cell_type": "code",
   "execution_count": 55,
   "metadata": {},
   "outputs": [
    {
     "name": "stdout",
     "output_type": "stream",
     "text": [
      "El número 20 está en la turpla, pero el numero 30 no\n"
     ]
    }
   ],
   "source": [
    "#El modo sencillo de hacerlo\n",
    "if 20 in turpla and 30 not in turpla:\n",
    "    print(\"El número 20 está en la turpla, pero el numero 30 no\")\n",
    "if 30 in turpla and 20 not in turpla:\n",
    "    print(\"El número 30 está en la turpla, pero el numero 20 no\")\n",
    "if 20 in turpla and 30 in turpla:\n",
    "    print(\"Tanto el numero 20 como el numero 30 estan en la turpla\")\n",
    "if 20 not in turpla and 30 not in turpla:\n",
    "    print(\"Ninguno de los números está en la turpla\")\n"
   ]
  },
  {
   "attachments": {},
   "cell_type": "markdown",
   "metadata": {},
   "source": [
    "Con la lista creada en el punto 1, validar la existencia del elemento 'París' y si no existe, agregarlo. Utilizar una variable e informar lo sucedido."
   ]
  },
  {
   "cell_type": "code",
   "execution_count": 59,
   "metadata": {},
   "outputs": [
    {
     "name": "stdout",
     "output_type": "stream",
     "text": [
      "el elento 'paris' ya se encuentra en la lista anterior. La lista actual es ['brasil', 'cuarta2', 'etiopia', 'cuarta1', 'buenos aires', 'cuarta', 'santiago', 'montreal', 'brasil', 'nuevos1', 'nuevos2', 'paris']. Adios\n"
     ]
    }
   ],
   "source": [
    "if \"paris\" not in lista:\n",
    "    print(\"el elento 'paris' no se encuentra en la lista anterior\")\n",
    "    agregar=input(\"deseas agregar el elemento 'paris'. escribe 'si' si deseas hacerlo o 'no' para terminar con el programa\")\n",
    "    if agregar==\"si\":\n",
    "        lista.append(\"paris\")\n",
    "        print(f\"acabas de agregar el elemento 'paris a la lista'. Quedó de la siguiente manera: {lista} \")\n",
    "elif \"paris\" in lista:\n",
    "    print(f\"el elento 'paris' ya se encuentra en la lista anterior. La lista actual es {lista}. Adios\")"
   ]
  },
  {
   "attachments": {},
   "cell_type": "markdown",
   "metadata": {},
   "source": [
    "Mostrar la cantidad de veces que se encuentra un elemento específico dentro de la tupla y de la lista"
   ]
  },
  {
   "cell_type": "code",
   "execution_count": 63,
   "metadata": {},
   "outputs": [
    {
     "name": "stdout",
     "output_type": "stream",
     "text": [
      "(1, 2, 3, 4, 5, 6, 7, 8, 9, 10, 11, 12, 13, 14, 15, 16, 17, 18, 19, 20)\n",
      "En la turpla, el número 1 se encuentra el siguiente número de veces:\n",
      "1\n",
      "['brasil', 'cuarta2', 'etiopia', 'cuarta1', 'buenos aires', 'cuarta', 'santiago', 'montreal', 'brasil', 'nuevos1', 'nuevos2', 'paris']\n",
      "En la lista, 'brasil' se encuentra el siguiente número de veces:\n",
      "2\n"
     ]
    }
   ],
   "source": [
    "print(turpla)\n",
    "print(f\"En la turpla, el número 1 se encuentra el siguiente número de veces:\")\n",
    "print(turpla.count(1))\n",
    "print(lista)\n",
    "print(f\"En la lista, 'brasil' se encuentra el siguiente número de veces:\")\n",
    "print(lista.count(\"brasil\"))"
   ]
  },
  {
   "attachments": {},
   "cell_type": "markdown",
   "metadata": {},
   "source": [
    "Convertir la tupla en una lista"
   ]
  },
  {
   "cell_type": "code",
   "execution_count": 64,
   "metadata": {},
   "outputs": [
    {
     "name": "stdout",
     "output_type": "stream",
     "text": [
      "(1, 2, 3, 4, 5, 6, 7, 8, 9, 10, 11, 12, 13, 14, 15, 16, 17, 18, 19, 20)\n",
      "[1, 2, 3, 4, 5, 6, 7, 8, 9, 10, 11, 12, 13, 14, 15, 16, 17, 18, 19, 20]\n"
     ]
    }
   ],
   "source": [
    "print(turpla)\n",
    "listaturpla=list(turpla)\n",
    "print(listaturpla)"
   ]
  },
  {
   "attachments": {},
   "cell_type": "markdown",
   "metadata": {},
   "source": [
    "Desempaquetar solo los primeros 3 elementos de la tupla en 3 variables"
   ]
  },
  {
   "cell_type": "code",
   "execution_count": 69,
   "metadata": {},
   "outputs": [
    {
     "name": "stdout",
     "output_type": "stream",
     "text": [
      "1\n",
      "2\n",
      "3\n",
      "1\n",
      "2\n",
      "3\n",
      "[4, 5, 6, 7, 8, 9, 10, 11, 12, 13, 14, 15, 16, 17, 18, 19, 20]\n"
     ]
    }
   ],
   "source": [
    "numero1, numero2, numero3, _, _, _, _, _, _, _, _, _, _, _, _, _, _, _, _, _, =turpla\n",
    "print(numero1)\n",
    "print(numero2)\n",
    "print(numero3)\n",
    "\n",
    "numeroa, numerob, numeroc, *resto=turpla\n",
    "print(numeroa)\n",
    "print(numerob)\n",
    "print(numeroc)\n",
    "print(resto)"
   ]
  },
  {
   "cell_type": "markdown",
   "metadata": {},
   "source": [
    "Crear un diccionario utilizando la lista crada en el punto 1, asignandole la clave \"ciudad\". Agregar tambien otras claves, como puede ser \"Pais\" y \"Continente\"."
   ]
  },
  {
   "cell_type": "code",
   "execution_count": 73,
   "metadata": {},
   "outputs": [
    {
     "name": "stdout",
     "output_type": "stream",
     "text": [
      "{'Ciudades': ['brasil', 'cuarta2', 'etiopia', 'cuarta1', 'buenos aires', 'cuarta', 'santiago', 'montreal', 'brasil', 'nuevos1', 'nuevos2', 'paris'], 'continentes': ['america', 'asia', 'Africa'], 'paises': ['mexico', 'españa', 'portugal']}\n"
     ]
    }
   ],
   "source": [
    "dic1={\"Ciudades\": lista1, \"continentes\":[\"america\", \"asia\", \"Africa\"], \"paises\":[\"mexico\", \"españa\", \"portugal\"]}\n",
    "print(dic1)"
   ]
  },
  {
   "attachments": {},
   "cell_type": "markdown",
   "metadata": {},
   "source": [
    "Imprimir las claves del diccionario\n"
   ]
  },
  {
   "cell_type": "code",
   "execution_count": 74,
   "metadata": {},
   "outputs": [
    {
     "name": "stdout",
     "output_type": "stream",
     "text": [
      "dict_keys(['Ciudades', 'continentes', 'paises'])\n"
     ]
    }
   ],
   "source": [
    "print(dic1.keys())"
   ]
  },
  {
   "attachments": {},
   "cell_type": "markdown",
   "metadata": {},
   "source": [
    "imprime solo los valores"
   ]
  },
  {
   "cell_type": "code",
   "execution_count": 75,
   "metadata": {},
   "outputs": [
    {
     "name": "stdout",
     "output_type": "stream",
     "text": [
      "dict_values([['brasil', 'cuarta2', 'etiopia', 'cuarta1', 'buenos aires', 'cuarta', 'santiago', 'montreal', 'brasil', 'nuevos1', 'nuevos2', 'paris'], ['america', 'asia', 'Africa'], ['mexico', 'españa', 'portugal']])\n"
     ]
    }
   ],
   "source": [
    "print(dic1.values())"
   ]
  },
  {
   "attachments": {},
   "cell_type": "markdown",
   "metadata": {},
   "source": [
    "imprime los valores de una de las claves"
   ]
  },
  {
   "cell_type": "code",
   "execution_count": 81,
   "metadata": {},
   "outputs": [
    {
     "name": "stdout",
     "output_type": "stream",
     "text": [
      "['america', 'asia', 'Africa']\n",
      "['america', 'asia', 'Africa']\n"
     ]
    }
   ],
   "source": [
    "print(dic1.get(\"continentes\"))\n",
    "#o\n",
    "print(dic1[\"continentes\"])\n",
    "\n"
   ]
  },
  {
   "attachments": {},
   "cell_type": "markdown",
   "metadata": {},
   "source": [
    "Imprimir las ciudades a través de su clave"
   ]
  },
  {
   "cell_type": "code",
   "execution_count": 82,
   "metadata": {},
   "outputs": [
    {
     "name": "stdout",
     "output_type": "stream",
     "text": [
      "['brasil', 'cuarta2', 'etiopia', 'cuarta1', 'buenos aires', 'cuarta', 'santiago', 'montreal', 'brasil', 'nuevos1', 'nuevos2', 'paris']\n",
      "['brasil', 'cuarta2', 'etiopia', 'cuarta1', 'buenos aires', 'cuarta', 'santiago', 'montreal', 'brasil', 'nuevos1', 'nuevos2', 'paris']\n"
     ]
    }
   ],
   "source": [
    "print(dic1.get(\"Ciudades\"))\n",
    "#o\n",
    "print(dic1[\"Ciudades\"])"
   ]
  },
  {
   "cell_type": "code",
   "execution_count": null,
   "metadata": {},
   "outputs": [],
   "source": []
  }
 ],
 "metadata": {
  "kernelspec": {
   "display_name": "Python 3",
   "language": "python",
   "name": "python3"
  },
  "language_info": {
   "codemirror_mode": {
    "name": "ipython",
    "version": 3
   },
   "file_extension": ".py",
   "mimetype": "text/x-python",
   "name": "python",
   "nbconvert_exporter": "python",
   "pygments_lexer": "ipython3",
   "version": "3.9.0"
  },
  "orig_nbformat": 4
 },
 "nbformat": 4,
 "nbformat_minor": 2
}
