{
 "cells": [
  {
   "cell_type": "markdown",
   "metadata": {},
   "source": [
    "# Preliminares"
   ]
  },
  {
   "cell_type": "markdown",
   "metadata": {},
   "source": [
    "## 1. Asignaciones"
   ]
  },
  {
   "cell_type": "markdown",
   "metadata": {},
   "source": [
    "En python todo es un objeto. Los objetos pueden contener palabras, numeros, operaciones, listas, diccionarios, etc\n",
    "\n",
    "Ejercicio:\n",
    "\n",
    "* Crear 5 objetos distintos"
   ]
  },
  {
   "cell_type": "code",
   "execution_count": null,
   "metadata": {
    "vscode": {
     "languageId": "plaintext"
    }
   },
   "outputs": [],
   "source": [
    "ObjetoTexto= 'Este objeto contiene una cadena'\n",
    "ObjetoTexto2= 'y aquí la continuación'\n",
    "obj3=[1,2,3,4,5,6] #<---- esto es una lista y esto en verde es un comentario\n",
    "obj4=5\n",
    "obj5=10\n"
   ]
  }
 ],
 "metadata": {
  "language_info": {
   "name": "python"
  }
 },
 "nbformat": 4,
 "nbformat_minor": 2
}
