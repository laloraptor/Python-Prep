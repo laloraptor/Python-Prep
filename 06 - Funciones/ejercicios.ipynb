{
 "cells": [
  {
   "attachments": {},
   "cell_type": "markdown",
   "metadata": {},
   "source": [
    "Crea una funcion que se encargue de realizar la division de dos numeros y de manera que si no se proporciona divisor este sea igual a 1 y no a 0.\n"
   ]
  },
  {
   "cell_type": "code",
   "execution_count": 7,
   "metadata": {},
   "outputs": [
    {
     "name": "stdout",
     "output_type": "stream",
     "text": [
      "0.5\n"
     ]
    }
   ],
   "source": [
    "def fun_divi(dividendo,divisor=1):\n",
    " \n",
    "    if divisor==0:\n",
    "        print(\"No es posible continuar con la operacion. La división por 0 no está definida\")\n",
    "    else:\n",
    "        return dividendo/divisor\n",
    "\n",
    "print(fun_divi(5,10))\n"
   ]
  },
  {
   "attachments": {},
   "cell_type": "markdown",
   "metadata": {},
   "source": [
    "Escribe una función que tome tres argumentos numéricos y devuelva el mayor de ellos."
   ]
  },
  {
   "cell_type": "code",
   "execution_count": 10,
   "metadata": {},
   "outputs": [
    {
     "name": "stdout",
     "output_type": "stream",
     "text": [
      "55\n"
     ]
    }
   ],
   "source": [
    "def maximo(a, b, c):\n",
    "    if a>b and a>c:\n",
    "        return(a)\n",
    "    elif b>a and b>c:\n",
    "        return(b)\n",
    "    elif c>a and c>b:\n",
    "        return(c)\n",
    "    \n",
    "solu=maximo(10,34,55)\n",
    "print(solu)\n"
   ]
  },
  {
   "attachments": {},
   "cell_type": "markdown",
   "metadata": {},
   "source": [
    "Escribe una función que tome dos argumentos numéricos (la base y la altura de un triángulo) y devuelva su área"
   ]
  },
  {
   "cell_type": "code",
   "execution_count": 11,
   "metadata": {},
   "outputs": [
    {
     "name": "stdout",
     "output_type": "stream",
     "text": [
      "37.5\n"
     ]
    }
   ],
   "source": [
    "def area_trian(base,altura):\n",
    "    return base*altura/2\n",
    "area=area_trian (5,15)\n",
    "print(area)"
   ]
  },
  {
   "attachments": {},
   "cell_type": "markdown",
   "metadata": {},
   "source": [
    "5) Crear una función que convierta entre grados Celsius, Farenheit y Kelvin<br>\n",
    "Fórmula 1\t: (°C × 9/5) + 32 = °F<br>\n",
    "Fórmula 2\t: °C + 273.15 = °K<br>\n",
    "Debe recibir 3 parámetros: el valor, la medida de orígen y la medida de destino\n",
    "\n",
    "Despues codifica lo necesario para ingresar los parametros vía teclado, que se guarden en una lista, y luego se apliquen a la función"
   ]
  },
  {
   "cell_type": "code",
   "execution_count": 26,
   "metadata": {},
   "outputs": [
    {
     "name": "stdout",
     "output_type": "stream",
     "text": [
      "la siguiente función necesita 3 argumentos: valor a convertir, la escala de origen y por ultimo la escala de destino (celsius, farenheit, kelvin)\n",
      "[20, 'kelvin', 'kelvin']\n",
      "None\n",
      "20 kelvin kelvin\n"
     ]
    }
   ],
   "source": [
    "print(\"la siguiente función necesita 3 argumentos: valor a convertir, la escala de origen y por ultimo la escala de destino (celsius, farenheit, kelvin)\")\n",
    "def convertirtem(valor,escalainicial,escalafinal):\n",
    "    if escalainicial==\"celsius\" and escalafinal==\"farenheit\":\n",
    "        return valor*9/5+32\n",
    "    elif escalainicial==\"celsius\" and escalafinal==\"kelvin\":\n",
    "        valor+273.15\n",
    "    elif escalainicial==\"farenheit\" and escalafinal==\"celsius\":\n",
    "        return (valor-32)/(9/5)\n",
    "    elif escalainicial==\"farenheit\" and escalafinal==\"kelvin\":\n",
    "        return ((valor-32)/(9/5))+273.15\n",
    "    elif escalainicial==\"kelvin\" and escalafinal==\"celsius\":\n",
    "        return valor-273.15\n",
    "    elif escalainicial==\"kelvin\" and escalafinal==\"farenheit\":\n",
    "        return ((valor-273.15)*(9/5))+32\n",
    "    \n",
    "#convertir 20 grados farenheit a grados kelvin\n",
    "valor=int(input(\"introduce cuantos grados quieres convertir\"))\n",
    "escalainicial=str(input(\"introduce de que escala partes: celsius, farenheit o kelvin\"))\n",
    "escalafinal=str(input(\"introduce a que escala quieres llegar: celsius, farenheit o kelvin\"))\n",
    "param=[valor,escalainicial,escalafinal]\n",
    "print(param)\n",
    "resu=convertirtem(*param)\n",
    "print(resu)"
   ]
  }
 ],
 "metadata": {
  "kernelspec": {
   "display_name": "Python 3",
   "language": "python",
   "name": "python3"
  },
  "language_info": {
   "codemirror_mode": {
    "name": "ipython",
    "version": 3
   },
   "file_extension": ".py",
   "mimetype": "text/x-python",
   "name": "python",
   "nbconvert_exporter": "python",
   "pygments_lexer": "ipython3",
   "version": "3.9.0"
  },
  "orig_nbformat": 4
 },
 "nbformat": 4,
 "nbformat_minor": 2
}
