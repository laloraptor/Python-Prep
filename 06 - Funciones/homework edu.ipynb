{
 "cells": [
  {
   "cell_type": "markdown",
   "metadata": {},
   "source": [
    "## Funciones"
   ]
  },
  {
   "cell_type": "markdown",
   "metadata": {},
   "source": [
    "1) Crear una función que reciba un número como parámetro y devuelva True si es primo y False si no lo es"
   ]
  },
  {
   "cell_type": "code",
   "execution_count": 10,
   "metadata": {},
   "outputs": [
    {
     "name": "stdout",
     "output_type": "stream",
     "text": [
      "True\n"
     ]
    }
   ],
   "source": [
    "def es_primo(numero):\n",
    "    primo=True\n",
    "    for n in range (2,numero):\n",
    "        if numero%n==0:\n",
    "            primo=False\n",
    "            break\n",
    "    return primo\n",
    "print (es_primo(19))"
   ]
  },
  {
   "cell_type": "markdown",
   "metadata": {},
   "source": [
    "2) Utilizando la función del punto 1, realizar otra función que reciba de parámetro una lista de números y devuelva sólo aquellos que son primos en otra lista"
   ]
  },
  {
   "cell_type": "code",
   "execution_count": 13,
   "metadata": {},
   "outputs": [
    {
     "name": "stdout",
     "output_type": "stream",
     "text": [
      "la lista inicial es la siguiente:[1, 2, 3, 4, 5, 6, 7, 8, 9, 10, 11, 12, 13, 14, 15, 16, 17, 18, 19, 20, 21, 22, 23, 24, 25, 26, 27, 28, 29, 30, 31, 32, 33, 34, 35, 36, 37, 38, 39, 40, 41, 42, 43, 44, 45, 46, 47, 48, 49, 50, 51, 52, 53, 54, 55, 56, 57, 58, 59, 60, 61, 62, 63, 64, 65, 66, 67, 68, 69, 70, 71, 72, 73, 74, 75, 76, 77, 78, 79, 80, 81, 82, 83, 84, 85, 86, 87, 88, 89, 90, 91, 92, 93, 94, 95, 96, 97, 98, 99]\n",
      "La lista extrayendo solo los primos es la siguiente [2, 3, 5, 7, 11, 13, 17, 19, 23, 29, 31, 37, 41, 43, 47, 53, 59, 61, 67, 71, 73, 79, 83, 89, 97]\n"
     ]
    }
   ],
   "source": [
    "def lisprim(lista):\n",
    "    extraidos=[]\n",
    "    for n in lista:\n",
    "        if n==1:\n",
    "            continue\n",
    "        if es_primo(n)==True:\n",
    "            extraidos.append(n)\n",
    "    return extraidos\n",
    "prueba=[]\n",
    "for n in range (1,100):\n",
    "    prueba.append(n)\n",
    "print(f\"la lista inicial es la siguiente:{prueba}\")\n",
    "\n",
    "print(\"La lista extrayendo solo los primos es la siguiente\",lisprim(prueba))"
   ]
  },
  {
   "attachments": {},
   "cell_type": "markdown",
   "metadata": {},
   "source": [
    "3) Crear una función que al recibir una lista de números, devuelva el que más se repite y cuántas veces lo hace. Si hay más de un \"más repetido\", que devuelva cualquier numero de la lista"
   ]
  },
  {
   "cell_type": "code",
   "execution_count": 91,
   "metadata": {},
   "outputs": [
    {
     "name": "stdout",
     "output_type": "stream",
     "text": [
      "[(3, 7), (4, 6), (2, 5), (6, 5), (5, 4), (7, 3), (45, 2), (78, 1), (34, 1), (8, 1), (1, 1)]\n",
      "El valor que más se repite es el 3 y lo hace 7 veces\n"
     ]
    }
   ],
   "source": [
    "def modas(lista):\n",
    "    import random\n",
    "    listaunicos=[]\n",
    "    pares=[]\n",
    "    repeticiones=[]\n",
    "    varmodas=False\n",
    "    modasrepeti=[]\n",
    "    for n in lista:\n",
    "        if n not in listaunicos:\n",
    "            listaunicos.append(n)\n",
    "    for a in listaunicos:\n",
    "        apariciones=lista.count(a)\n",
    "        pares.append((a,apariciones)) #puedes añadir los pares sin necesidad de iterarlos en listas\n",
    "        #print (f\"El número {a} se repite {apariciones} veces\")\n",
    "        repeticiones.append(lista.count(a))\n",
    "    paresdesc = sorted(pares, key=lambda x: x[1], reverse=True)\n",
    "    #print(repeticiones)\n",
    "    repeticiones=sorted(repeticiones,reverse=True )\n",
    "    #print(repeticiones)\n",
    "    print(paresdesc)\n",
    "    valmax=repeticiones[0]\n",
    "    for n in range (1, len(repeticiones)):\n",
    "            if repeticiones[n]>=valmax:\n",
    "                    varmodas=True\n",
    "    if varmodas==True:\n",
    "        return f\"La lista tiene varias modas. Te devolveremos cualquier valor: {random.choice(repeticiones)}\"\n",
    "    else:\n",
    "            for i in paresdesc:\n",
    "                    numeromasrep=i[0]\n",
    "                    break\n",
    "            #return [numeromasrep,valmax] #este es el que sería operativo para usar la función después\n",
    "            return f\"El valor que más se repite es el {numeromasrep} y lo hace {valmax} veces\" #Este es el que serviría para un programa\n",
    "prueba=[2,4,3,4,5,6,7,78,3,3,45,45,2,34,4,2,2,4,5,6,3,4,6,7,5,6,8,7,3,3,3,2,4,5,6,1]\n",
    "print (modas(prueba))"
   ]
  },
  {
   "cell_type": "markdown",
   "metadata": {},
   "source": [
    "4) A la función del punto 3, agregar un parámetro más, que permita elegir si se requiere el menor o el mayor de los mas repetidos."
   ]
  },
  {
   "cell_type": "code",
   "execution_count": 120,
   "metadata": {},
   "outputs": [
    {
     "name": "stdout",
     "output_type": "stream",
     "text": [
      "El valor que menos se repite (y que es menor que todos los demás números) es el 0 y lo hace 1 veces\n"
     ]
    }
   ],
   "source": [
    "def modas(lista, mayor=True):\n",
    "    import random\n",
    "    listaunicos=[]\n",
    "    pares=[]\n",
    "    repeticiones=[]\n",
    "    varmodas=False\n",
    "    modasrepeti=[]\n",
    "    for n in lista:\n",
    "        if n not in listaunicos:\n",
    "            listaunicos.append(n)\n",
    "    for a in listaunicos:\n",
    "        apariciones=lista.count(a)\n",
    "        pares.append((a,apariciones)) #puedes añadir los pares sin necesidad de iterarlos en listas\n",
    "        #print (f\"El número {a} se repite {apariciones} veces\")\n",
    "        repeticiones.append(lista.count(a))\n",
    "    if mayor==True:\n",
    "        paresdesc = sorted(pares, key=lambda x: x[1], reverse=True)\n",
    "        #print(repeticiones)\n",
    "        repeticiones=sorted(repeticiones,reverse=True )\n",
    "        #print(repeticiones)\n",
    "        #print(paresdesc)\n",
    "        valmax=repeticiones[0]\n",
    "    elif mayor==False:\n",
    "        paresdesc = sorted(pares, key=lambda x: x[1], reverse=False)\n",
    "        #print(repeticiones)\n",
    "        repeticiones=sorted(repeticiones,reverse=False )\n",
    "        #print(repeticiones)\n",
    "        #print(paresdesc)\n",
    "        valmax=repeticiones[0]\n",
    "\n",
    "    for n in range (1, len(repeticiones)):\n",
    "            if repeticiones[n]==valmax:\n",
    "                    varmodas=True\n",
    "    if varmodas==True:\n",
    "        return f\"La lista tiene varias modas. Te devolveremos cualquier valor: {random.choice(repeticiones)}\"\n",
    "    elif varmodas==False and mayor==True:\n",
    "            for i in paresdesc:\n",
    "                    numeromasrep=i[0]\n",
    "                    break\n",
    "            #return [numeromasrep,valmax] #este es el que sería operativo para usar la función después\n",
    "            return f\"El valor que más se repite es el {numeromasrep} y lo hace {valmax} veces\" #Este es el que serviría para un programa\n",
    "    elif varmodas==False and mayor==False:\n",
    "            for i in paresdesc:\n",
    "                    numeromasrep=i[0]\n",
    "                    break\n",
    "            #return [numeromasrep,valmax] #este es el que sería operativo para usar la función después\n",
    "            return f\"El valor que menos se repite (y que es menor que todos los demás números) es el {numeromasrep} y lo hace {valmax} veces\" #Este es el que serviría para un programa\n",
    "\n",
    "prueba=[2,4,3,4,5,6,7,7,78,78,78,78,78,78,78,78,78,0,78,78,8,3,3,45,45,2,34, 34,1,4,2,2,4,5,6,3,4,6,7,5,6,8,7,78,3,3,3,2,4,5,6,1]\n",
    "print (modas(prueba, False))"
   ]
  },
  {
   "cell_type": "markdown",
   "metadata": {},
   "source": [
    "5) Crear una función que convierta entre grados Celsius, Farenheit y Kelvin<br>\n",
    "Fórmula 1\t: (°C × 9/5) + 32 = °F<br>\n",
    "Fórmula 2\t: °C + 273.15 = °K<br>\n",
    "Debe recibir 3 parámetros: el valor, la medida de orígen y la medida de destino\n"
   ]
  },
  {
   "cell_type": "code",
   "execution_count": 116,
   "metadata": {},
   "outputs": [
    {
     "name": "stdout",
     "output_type": "stream",
     "text": [
      "la siguiente función necesita 3 argumentos: valor a convertir, la escala de origen y por ultimo la escala de destino (celsius, farenheit, kelvin)\n",
      "[50, 'celsius', 'kelvin']\n",
      "323.15\n"
     ]
    }
   ],
   "source": [
    "print(\"la siguiente función necesita 3 argumentos: valor a convertir, la escala de origen y por ultimo la escala de destino (celsius, farenheit, kelvin)\")\n",
    "def convertirtem(valor,escalainicial,escalafinal):\n",
    "    if escalainicial==\"celsius\" and escalafinal==\"celsius\":\n",
    "        return valor\n",
    "    if escalainicial==\"celsius\" and escalafinal==\"farenheit\":\n",
    "        return valor*9/5+32\n",
    "    elif escalainicial==\"celsius\" and escalafinal==\"kelvin\":\n",
    "        return valor+273.15\n",
    "    elif escalainicial==\"farenheit\" and escalafinal==\"farenheit\":\n",
    "        return valor\n",
    "    elif escalainicial==\"farenheit\" and escalafinal==\"celsius\":\n",
    "        return (valor-32)/(9/5)\n",
    "    elif escalainicial==\"farenheit\" and escalafinal==\"kelvin\":\n",
    "        return ((valor-32)/(9/5))+273.15\n",
    "    elif escalainicial==\"kelvin\" and escalafinal==\"kelvin\":\n",
    "        return valor\n",
    "    elif escalainicial==\"kelvin\" and escalafinal==\"celsius\":\n",
    "        return valor-273.15\n",
    "    elif escalainicial==\"kelvin\" and escalafinal==\"farenheit\":\n",
    "        return ((valor-273.15)*(9/5))+32\n",
    "    \n",
    "#convertir 20 grados farenheit a grados kelvin\n",
    "valor=int(input(\"introduce cuantos grados quieres convertir\"))\n",
    "escalainicial=str(input(\"introduce de que escala partes: celsius, farenheit o kelvin\"))\n",
    "escalafinal=str(input(\"introduce a que escala quieres llegar: celsius, farenheit o kelvin\"))\n",
    "param=[valor,escalainicial,escalafinal]\n",
    "print(param)\n",
    "resu=convertirtem(*param) #toma la turpla como valores independientes\n",
    "print(resu)"
   ]
  },
  {
   "cell_type": "markdown",
   "metadata": {},
   "source": [
    "6) Iterando una lista con los tres valores posibles de temperatura que recibe la función del punto 5, hacer un print para cada combinación de los mismos:"
   ]
  },
  {
   "cell_type": "code",
   "execution_count": 121,
   "metadata": {},
   "outputs": [
    {
     "name": "stdout",
     "output_type": "stream",
     "text": [
      "1 grado  celsius  a  celsius  es igual a 1\n",
      "1 grado  celsius  a  kelvin  es igual a 274.15\n",
      "1 grado  celsius  a  farenheit  es igual a 33.8\n",
      "1 grado  kelvin  a  celsius  es igual a -272.15\n",
      "1 grado  kelvin  a  kelvin  es igual a 1\n",
      "1 grado  kelvin  a  farenheit  es igual a -457.86999999999995\n",
      "1 grado  farenheit  a  celsius  es igual a -17.22222222222222\n",
      "1 grado  farenheit  a  kelvin  es igual a 255.92777777777775\n",
      "1 grado  farenheit  a  farenheit  es igual a 1\n"
     ]
    }
   ],
   "source": [
    "metrica = ['celsius','kelvin','farenheit']\n",
    "for i in range (0,3):\n",
    "    for j in range (0,3):\n",
    "        \n",
    "        print((1), \"grado \",(metrica[i]),\" a \",(metrica[j]),\" es igual a\", (convertirtem(1,metrica[i], metrica[j])))"
   ]
  },
  {
   "cell_type": "markdown",
   "metadata": {},
   "source": [
    "7) Armar una función que devuelva el factorial de un número. Tener en cuenta que el usuario puede equivocarse y enviar de parámetro un número no entero o negativo"
   ]
  },
  {
   "cell_type": "code",
   "execution_count": 115,
   "metadata": {},
   "outputs": [
    {
     "name": "stdout",
     "output_type": "stream",
     "text": [
      "Error. El numero debe ser positivo\n"
     ]
    }
   ],
   "source": [
    "def factorial(numero):\n",
    "    if (type(numero) != int):\n",
    "        return \"Error. El numero debe ser un entero.\"\n",
    "    if(numero < 0):\n",
    "        return \"Error. El numero debe ser positivo\"\n",
    "    if (numero > 1):\n",
    "        numero = numero * factorial(numero - 1)\n",
    "    return numero\n",
    "\n",
    "print(factorial(-20))"
   ]
  }
 ],
 "metadata": {
  "interpreter": {
   "hash": "c85384e4cb51c8b72350f3a8712cc8351fdc3955e32a27f9b60c6242ab125f01"
  },
  "kernelspec": {
   "display_name": "Python 3 (ipykernel)",
   "language": "python",
   "name": "python3"
  },
  "language_info": {
   "codemirror_mode": {
    "name": "ipython",
    "version": 3
   },
   "file_extension": ".py",
   "mimetype": "text/x-python",
   "name": "python",
   "nbconvert_exporter": "python",
   "pygments_lexer": "ipython3",
   "version": "3.9.0"
  }
 },
 "nbformat": 4,
 "nbformat_minor": 4
}
