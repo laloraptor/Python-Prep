{
 "cells": [
  {
   "attachments": {},
   "cell_type": "markdown",
   "metadata": {},
   "source": [
    "crea una funcion que convierta en una lista de elementos unicos si es que tiene listas\n",
    "si el parametro no es una lista debe retornar nulo\n",
    "\n"
   ]
  },
  {
   "cell_type": "code",
   "execution_count": 8,
   "metadata": {},
   "outputs": [
    {
     "name": "stdout",
     "output_type": "stream",
     "text": [
      "[1, 2, 'a', 'concui', 'si', 24, 56, 27, 4, 7]\n"
     ]
    }
   ],
   "source": [
    "lista=[1,2,[\"a\",\"concui\", \"si\"], 24,56, [27, 4, 7] ]\n",
    "#lista=24\n",
    "def ListadeListas (lista):\n",
    "    listaunicos=[]\n",
    "    if type(lista)!=list:\n",
    "        return None\n",
    "    elif type(lista)==list:\n",
    "        for n in lista:\n",
    "            if type(n)!=list:\n",
    "                listaunicos.append(n)\n",
    "            elif type(n)==list:\n",
    "                for i in n:\n",
    "                    listaunicos.append(i)\n",
    "    return listaunicos\n",
    "print(ListadeListas(lista) )\n",
    "\n",
    "    "
   ]
  }
 ],
 "metadata": {
  "kernelspec": {
   "display_name": "Python 3",
   "language": "python",
   "name": "python3"
  },
  "language_info": {
   "codemirror_mode": {
    "name": "ipython",
    "version": 3
   },
   "file_extension": ".py",
   "mimetype": "text/x-python",
   "name": "python",
   "nbconvert_exporter": "python",
   "pygments_lexer": "ipython3",
   "version": "3.9.0"
  },
  "orig_nbformat": 4
 },
 "nbformat": 4,
 "nbformat_minor": 2
}
